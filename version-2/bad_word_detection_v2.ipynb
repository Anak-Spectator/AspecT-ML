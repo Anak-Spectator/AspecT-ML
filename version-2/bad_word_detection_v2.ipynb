{
  "nbformat": 4,
  "nbformat_minor": 0,
  "metadata": {
    "colab": {
      "name": "bad_word_detection_v2.ipynb",
      "provenance": [],
      "collapsed_sections": []
    },
    "kernelspec": {
      "name": "python3",
      "display_name": "Python 3"
    },
    "language_info": {
      "name": "python"
    },
    "accelerator": "GPU"
  },
  "cells": [
    {
      "cell_type": "markdown",
      "metadata": {
        "id": "yjnUUWu2k3D1"
      },
      "source": [
        "# Download Dataset from Kaggle"
      ]
    },
    {
      "cell_type": "code",
      "metadata": {
        "id": "9HKLcJVci7a5"
      },
      "source": [
        "! pip install -q kaggle"
      ],
      "execution_count": null,
      "outputs": []
    },
    {
      "cell_type": "code",
      "metadata": {
        "id": "Ue64LaHgjCeo"
      },
      "source": [
        "from google.colab import files\n",
        "files.upload()"
      ],
      "execution_count": null,
      "outputs": []
    },
    {
      "cell_type": "code",
      "metadata": {
        "id": "6_oNF03XkhM9"
      },
      "source": [
        "! mkdir ~/.kaggle\n",
        "! cp kaggle.json ~/.kaggle/"
      ],
      "execution_count": null,
      "outputs": []
    },
    {
      "cell_type": "code",
      "metadata": {
        "id": "kA3eO4x6jfKT"
      },
      "source": [
        "! chmod 600 kaggle.json"
      ],
      "execution_count": null,
      "outputs": []
    },
    {
      "cell_type": "code",
      "metadata": {
        "colab": {
          "base_uri": "https://localhost:8080/"
        },
        "id": "svznaQPYjjNI",
        "outputId": "208f2914-0cd0-4277-ee91-5a5237bbaef0"
      },
      "source": [
        "! kaggle datasets download -d ilhamfp31/indonesian-abusive-and-hate-speech-twitter-text"
      ],
      "execution_count": null,
      "outputs": [
        {
          "output_type": "stream",
          "text": [
            "Warning: Your Kaggle API key is readable by other users on this system! To fix this, you can run 'chmod 600 /root/.kaggle/kaggle.json'\n",
            "Downloading indonesian-abusive-and-hate-speech-twitter-text.zip to /content\n",
            "  0% 0.00/814k [00:00<?, ?B/s]\n",
            "100% 814k/814k [00:00<00:00, 55.4MB/s]\n"
          ],
          "name": "stdout"
        }
      ]
    },
    {
      "cell_type": "code",
      "metadata": {
        "colab": {
          "base_uri": "https://localhost:8080/"
        },
        "id": "FIpUvbyZjuqn",
        "outputId": "ad14f3c6-2953-4284-8d1b-45b564cd3c58"
      },
      "source": [
        "! unzip indonesian-abusive-and-hate-speech-twitter-text.zip"
      ],
      "execution_count": null,
      "outputs": [
        {
          "output_type": "stream",
          "text": [
            "Archive:  indonesian-abusive-and-hate-speech-twitter-text.zip\n",
            "  inflating: README.md               \n",
            "  inflating: abusive.csv             \n",
            "  inflating: citation.bib            \n",
            "  inflating: data.csv                \n",
            "  inflating: new_kamusalay.csv       \n"
          ],
          "name": "stdout"
        }
      ]
    },
    {
      "cell_type": "markdown",
      "metadata": {
        "id": "jWmmOod9k70y"
      },
      "source": [
        "# Dataset Preparation"
      ]
    },
    {
      "cell_type": "code",
      "metadata": {
        "id": "AbNhHAeejV3S"
      },
      "source": [
        "import pandas as pd"
      ],
      "execution_count": null,
      "outputs": []
    },
    {
      "cell_type": "markdown",
      "metadata": {
        "id": "89YyesEem6Vv"
      },
      "source": [
        "## Abusive Twitter Dataset"
      ]
    },
    {
      "cell_type": "code",
      "metadata": {
        "id": "aDCyaL9PlF-x"
      },
      "source": [
        "twitter_dataset = pd.read_csv('data.csv', encoding = 'latin-1')"
      ],
      "execution_count": null,
      "outputs": []
    },
    {
      "cell_type": "code",
      "metadata": {
        "colab": {
          "base_uri": "https://localhost:8080/",
          "height": 481
        },
        "id": "-qwAW3YylcEg",
        "outputId": "96d961c3-485b-4e40-dc31-37b4ea20dd58"
      },
      "source": [
        "twitter_dataset.head(10)"
      ],
      "execution_count": null,
      "outputs": [
        {
          "output_type": "execute_result",
          "data": {
            "text/html": [
              "<div>\n",
              "<style scoped>\n",
              "    .dataframe tbody tr th:only-of-type {\n",
              "        vertical-align: middle;\n",
              "    }\n",
              "\n",
              "    .dataframe tbody tr th {\n",
              "        vertical-align: top;\n",
              "    }\n",
              "\n",
              "    .dataframe thead th {\n",
              "        text-align: right;\n",
              "    }\n",
              "</style>\n",
              "<table border=\"1\" class=\"dataframe\">\n",
              "  <thead>\n",
              "    <tr style=\"text-align: right;\">\n",
              "      <th></th>\n",
              "      <th>Tweet</th>\n",
              "      <th>HS</th>\n",
              "      <th>Abusive</th>\n",
              "      <th>HS_Individual</th>\n",
              "      <th>HS_Group</th>\n",
              "      <th>HS_Religion</th>\n",
              "      <th>HS_Race</th>\n",
              "      <th>HS_Physical</th>\n",
              "      <th>HS_Gender</th>\n",
              "      <th>HS_Other</th>\n",
              "      <th>HS_Weak</th>\n",
              "      <th>HS_Moderate</th>\n",
              "      <th>HS_Strong</th>\n",
              "    </tr>\n",
              "  </thead>\n",
              "  <tbody>\n",
              "    <tr>\n",
              "      <th>0</th>\n",
              "      <td>- disaat semua cowok berusaha melacak perhatia...</td>\n",
              "      <td>1</td>\n",
              "      <td>1</td>\n",
              "      <td>1</td>\n",
              "      <td>0</td>\n",
              "      <td>0</td>\n",
              "      <td>0</td>\n",
              "      <td>0</td>\n",
              "      <td>0</td>\n",
              "      <td>1</td>\n",
              "      <td>1</td>\n",
              "      <td>0</td>\n",
              "      <td>0</td>\n",
              "    </tr>\n",
              "    <tr>\n",
              "      <th>1</th>\n",
              "      <td>RT USER: USER siapa yang telat ngasih tau elu?...</td>\n",
              "      <td>0</td>\n",
              "      <td>1</td>\n",
              "      <td>0</td>\n",
              "      <td>0</td>\n",
              "      <td>0</td>\n",
              "      <td>0</td>\n",
              "      <td>0</td>\n",
              "      <td>0</td>\n",
              "      <td>0</td>\n",
              "      <td>0</td>\n",
              "      <td>0</td>\n",
              "      <td>0</td>\n",
              "    </tr>\n",
              "    <tr>\n",
              "      <th>2</th>\n",
              "      <td>41. Kadang aku berfikir, kenapa aku tetap perc...</td>\n",
              "      <td>0</td>\n",
              "      <td>0</td>\n",
              "      <td>0</td>\n",
              "      <td>0</td>\n",
              "      <td>0</td>\n",
              "      <td>0</td>\n",
              "      <td>0</td>\n",
              "      <td>0</td>\n",
              "      <td>0</td>\n",
              "      <td>0</td>\n",
              "      <td>0</td>\n",
              "      <td>0</td>\n",
              "    </tr>\n",
              "    <tr>\n",
              "      <th>3</th>\n",
              "      <td>USER USER AKU ITU AKU\\n\\nKU TAU MATAMU SIPIT T...</td>\n",
              "      <td>0</td>\n",
              "      <td>0</td>\n",
              "      <td>0</td>\n",
              "      <td>0</td>\n",
              "      <td>0</td>\n",
              "      <td>0</td>\n",
              "      <td>0</td>\n",
              "      <td>0</td>\n",
              "      <td>0</td>\n",
              "      <td>0</td>\n",
              "      <td>0</td>\n",
              "      <td>0</td>\n",
              "    </tr>\n",
              "    <tr>\n",
              "      <th>4</th>\n",
              "      <td>USER USER Kaum cebong kapir udah keliatan dong...</td>\n",
              "      <td>1</td>\n",
              "      <td>1</td>\n",
              "      <td>0</td>\n",
              "      <td>1</td>\n",
              "      <td>1</td>\n",
              "      <td>0</td>\n",
              "      <td>0</td>\n",
              "      <td>0</td>\n",
              "      <td>0</td>\n",
              "      <td>0</td>\n",
              "      <td>1</td>\n",
              "      <td>0</td>\n",
              "    </tr>\n",
              "    <tr>\n",
              "      <th>5</th>\n",
              "      <td>USER Ya bani taplak dkk \\xf0\\x9f\\x98\\x84\\xf0\\x...</td>\n",
              "      <td>1</td>\n",
              "      <td>1</td>\n",
              "      <td>0</td>\n",
              "      <td>1</td>\n",
              "      <td>0</td>\n",
              "      <td>0</td>\n",
              "      <td>0</td>\n",
              "      <td>0</td>\n",
              "      <td>1</td>\n",
              "      <td>0</td>\n",
              "      <td>1</td>\n",
              "      <td>0</td>\n",
              "    </tr>\n",
              "    <tr>\n",
              "      <th>6</th>\n",
              "      <td>deklarasi pilkada 2018 aman dan anti hoax warg...</td>\n",
              "      <td>0</td>\n",
              "      <td>0</td>\n",
              "      <td>0</td>\n",
              "      <td>0</td>\n",
              "      <td>0</td>\n",
              "      <td>0</td>\n",
              "      <td>0</td>\n",
              "      <td>0</td>\n",
              "      <td>0</td>\n",
              "      <td>0</td>\n",
              "      <td>0</td>\n",
              "      <td>0</td>\n",
              "    </tr>\n",
              "    <tr>\n",
              "      <th>7</th>\n",
              "      <td>Gue baru aja kelar re-watch Aldnoah Zero!!! pa...</td>\n",
              "      <td>0</td>\n",
              "      <td>1</td>\n",
              "      <td>0</td>\n",
              "      <td>0</td>\n",
              "      <td>0</td>\n",
              "      <td>0</td>\n",
              "      <td>0</td>\n",
              "      <td>0</td>\n",
              "      <td>0</td>\n",
              "      <td>0</td>\n",
              "      <td>0</td>\n",
              "      <td>0</td>\n",
              "    </tr>\n",
              "    <tr>\n",
              "      <th>8</th>\n",
              "      <td>Nah admin belanja satu lagi port terbaik nak m...</td>\n",
              "      <td>0</td>\n",
              "      <td>0</td>\n",
              "      <td>0</td>\n",
              "      <td>0</td>\n",
              "      <td>0</td>\n",
              "      <td>0</td>\n",
              "      <td>0</td>\n",
              "      <td>0</td>\n",
              "      <td>0</td>\n",
              "      <td>0</td>\n",
              "      <td>0</td>\n",
              "      <td>0</td>\n",
              "    </tr>\n",
              "    <tr>\n",
              "      <th>9</th>\n",
              "      <td>USER Enak lg klo smbil ngewe'</td>\n",
              "      <td>0</td>\n",
              "      <td>1</td>\n",
              "      <td>0</td>\n",
              "      <td>0</td>\n",
              "      <td>0</td>\n",
              "      <td>0</td>\n",
              "      <td>0</td>\n",
              "      <td>0</td>\n",
              "      <td>0</td>\n",
              "      <td>0</td>\n",
              "      <td>0</td>\n",
              "      <td>0</td>\n",
              "    </tr>\n",
              "  </tbody>\n",
              "</table>\n",
              "</div>"
            ],
            "text/plain": [
              "                                               Tweet  ...  HS_Strong\n",
              "0  - disaat semua cowok berusaha melacak perhatia...  ...          0\n",
              "1  RT USER: USER siapa yang telat ngasih tau elu?...  ...          0\n",
              "2  41. Kadang aku berfikir, kenapa aku tetap perc...  ...          0\n",
              "3  USER USER AKU ITU AKU\\n\\nKU TAU MATAMU SIPIT T...  ...          0\n",
              "4  USER USER Kaum cebong kapir udah keliatan dong...  ...          0\n",
              "5  USER Ya bani taplak dkk \\xf0\\x9f\\x98\\x84\\xf0\\x...  ...          0\n",
              "6  deklarasi pilkada 2018 aman dan anti hoax warg...  ...          0\n",
              "7  Gue baru aja kelar re-watch Aldnoah Zero!!! pa...  ...          0\n",
              "8  Nah admin belanja satu lagi port terbaik nak m...  ...          0\n",
              "9                      USER Enak lg klo smbil ngewe'  ...          0\n",
              "\n",
              "[10 rows x 13 columns]"
            ]
          },
          "metadata": {
            "tags": []
          },
          "execution_count": 9
        }
      ]
    },
    {
      "cell_type": "code",
      "metadata": {
        "id": "Q6DUBTiTlhRF"
      },
      "source": [
        "twitter_dataset.rename(columns = {'Tweet': 'text', 'Abusive': 'bad_word'}, inplace = True)\n",
        "twitter_dataset = twitter_dataset[['text', 'bad_word']]"
      ],
      "execution_count": null,
      "outputs": []
    },
    {
      "cell_type": "code",
      "metadata": {
        "colab": {
          "base_uri": "https://localhost:8080/"
        },
        "id": "s7UZPH_ml8eu",
        "outputId": "f78529b7-3fa2-470e-a099-57f8308e14ca"
      },
      "source": [
        "twitter_dataset['bad_word'].value_counts()"
      ],
      "execution_count": null,
      "outputs": [
        {
          "output_type": "execute_result",
          "data": {
            "text/plain": [
              "0    8126\n",
              "1    5043\n",
              "Name: bad_word, dtype: int64"
            ]
          },
          "metadata": {
            "tags": []
          },
          "execution_count": 230
        }
      ]
    },
    {
      "cell_type": "markdown",
      "metadata": {
        "id": "qI1bTvdPnGnG"
      },
      "source": [
        "## Instagram Comment Dataset"
      ]
    },
    {
      "cell_type": "code",
      "metadata": {
        "id": "4rcF_WMenMH7"
      },
      "source": [
        "url = 'https://raw.githubusercontent.com/rizalespe/Dataset-Sentimen-Analisis-Bahasa-Indonesia/master/dataset_komentar_instagram_cyberbullying.csv'\n",
        "ig_dataset = pd.read_csv(url)"
      ],
      "execution_count": null,
      "outputs": []
    },
    {
      "cell_type": "code",
      "metadata": {
        "colab": {
          "base_uri": "https://localhost:8080/",
          "height": 335
        },
        "id": "RO-kUbdGnTlm",
        "outputId": "7318eb19-f238-4ff0-cd63-f5aaff0449cf"
      },
      "source": [
        "ig_dataset.head(10)"
      ],
      "execution_count": null,
      "outputs": [
        {
          "output_type": "execute_result",
          "data": {
            "text/html": [
              "<div>\n",
              "<style scoped>\n",
              "    .dataframe tbody tr th:only-of-type {\n",
              "        vertical-align: middle;\n",
              "    }\n",
              "\n",
              "    .dataframe tbody tr th {\n",
              "        vertical-align: top;\n",
              "    }\n",
              "\n",
              "    .dataframe thead th {\n",
              "        text-align: right;\n",
              "    }\n",
              "</style>\n",
              "<table border=\"1\" class=\"dataframe\">\n",
              "  <thead>\n",
              "    <tr style=\"text-align: right;\">\n",
              "      <th></th>\n",
              "      <th>Id</th>\n",
              "      <th>Sentiment</th>\n",
              "      <th>Instagram Comment Text</th>\n",
              "    </tr>\n",
              "  </thead>\n",
              "  <tbody>\n",
              "    <tr>\n",
              "      <th>0</th>\n",
              "      <td>1</td>\n",
              "      <td>negative</td>\n",
              "      <td>&lt;USERNAME&gt; TOLOL!! Gak ada hubungan nya kegug...</td>\n",
              "    </tr>\n",
              "    <tr>\n",
              "      <th>1</th>\n",
              "      <td>2</td>\n",
              "      <td>negative</td>\n",
              "      <td>Geblek lo tata...cowo bgt dibela2in balikan......</td>\n",
              "    </tr>\n",
              "    <tr>\n",
              "      <th>2</th>\n",
              "      <td>3</td>\n",
              "      <td>negative</td>\n",
              "      <td>Kmrn termewek2 skr lengket lg duhhh kok labil ...</td>\n",
              "    </tr>\n",
              "    <tr>\n",
              "      <th>3</th>\n",
              "      <td>4</td>\n",
              "      <td>negative</td>\n",
              "      <td>Intinya kalau kesel dengan ATT nya, gausah ke ...</td>\n",
              "    </tr>\n",
              "    <tr>\n",
              "      <th>4</th>\n",
              "      <td>5</td>\n",
              "      <td>negative</td>\n",
              "      <td>hadewwwww permpuan itu lg!!!!sakit jiwa,knp ha...</td>\n",
              "    </tr>\n",
              "    <tr>\n",
              "      <th>5</th>\n",
              "      <td>6</td>\n",
              "      <td>negative</td>\n",
              "      <td>Pantesan di tinggalin laki, ya lakinya juga mi...</td>\n",
              "    </tr>\n",
              "    <tr>\n",
              "      <th>6</th>\n",
              "      <td>7</td>\n",
              "      <td>negative</td>\n",
              "      <td>kebiasaan balajaer nyampah d ig para artis..su...</td>\n",
              "    </tr>\n",
              "    <tr>\n",
              "      <th>7</th>\n",
              "      <td>8</td>\n",
              "      <td>negative</td>\n",
              "      <td>krn sebagian besar rakyat indonesia itu bodoh....</td>\n",
              "    </tr>\n",
              "    <tr>\n",
              "      <th>8</th>\n",
              "      <td>9</td>\n",
              "      <td>negative</td>\n",
              "      <td>ayu janda bego pny suami kpn nikah laginya?</td>\n",
              "    </tr>\n",
              "    <tr>\n",
              "      <th>9</th>\n",
              "      <td>10</td>\n",
              "      <td>negative</td>\n",
              "      <td>Anyiennnnggg.. Suaranya ancur banget, lebih me...</td>\n",
              "    </tr>\n",
              "  </tbody>\n",
              "</table>\n",
              "</div>"
            ],
            "text/plain": [
              "   Id Sentiment                             Instagram Comment Text\n",
              "0   1  negative   <USERNAME> TOLOL!! Gak ada hubungan nya kegug...\n",
              "1   2  negative  Geblek lo tata...cowo bgt dibela2in balikan......\n",
              "2   3  negative  Kmrn termewek2 skr lengket lg duhhh kok labil ...\n",
              "3   4  negative  Intinya kalau kesel dengan ATT nya, gausah ke ...\n",
              "4   5  negative  hadewwwww permpuan itu lg!!!!sakit jiwa,knp ha...\n",
              "5   6  negative  Pantesan di tinggalin laki, ya lakinya juga mi...\n",
              "6   7  negative  kebiasaan balajaer nyampah d ig para artis..su...\n",
              "7   8  negative  krn sebagian besar rakyat indonesia itu bodoh....\n",
              "8   9  negative        ayu janda bego pny suami kpn nikah laginya?\n",
              "9  10  negative  Anyiennnnggg.. Suaranya ancur banget, lebih me..."
            ]
          },
          "metadata": {
            "tags": []
          },
          "execution_count": 13
        }
      ]
    },
    {
      "cell_type": "code",
      "metadata": {
        "id": "Q0x9vzsynVwP"
      },
      "source": [
        "ig_dataset.drop(columns = 'Id', inplace = True)\n",
        "ig_dataset.rename(columns = {'Instagram Comment Text': 'text'}, inplace = True)\n",
        "\n",
        "ig_dataset['bad_word'] = (ig_dataset['Sentiment'] == 'negative').astype(int)\n",
        "ig_dataset.drop(columns = 'Sentiment', inplace = True)"
      ],
      "execution_count": null,
      "outputs": []
    },
    {
      "cell_type": "code",
      "metadata": {
        "colab": {
          "base_uri": "https://localhost:8080/"
        },
        "id": "uykNmScynZxP",
        "outputId": "0e64c7d5-c6a5-48ca-91c5-0cae718592eb"
      },
      "source": [
        "ig_dataset['bad_word'].value_counts()"
      ],
      "execution_count": null,
      "outputs": [
        {
          "output_type": "execute_result",
          "data": {
            "text/plain": [
              "1    200\n",
              "0    200\n",
              "Name: bad_word, dtype: int64"
            ]
          },
          "metadata": {
            "tags": []
          },
          "execution_count": 15
        }
      ]
    },
    {
      "cell_type": "markdown",
      "metadata": {
        "id": "He-jZ48yndIV"
      },
      "source": [
        "## Merging Datasets"
      ]
    },
    {
      "cell_type": "code",
      "metadata": {
        "id": "HWRt7rDgnmY-"
      },
      "source": [
        "dataset = pd.concat([twitter_dataset, ig_dataset], ignore_index = True)"
      ],
      "execution_count": null,
      "outputs": []
    },
    {
      "cell_type": "code",
      "metadata": {
        "colab": {
          "base_uri": "https://localhost:8080/"
        },
        "id": "fAOGFRQrnp49",
        "outputId": "9b3b8972-d426-425b-c437-738b33696115"
      },
      "source": [
        "dataset['bad_word'].value_counts()"
      ],
      "execution_count": null,
      "outputs": [
        {
          "output_type": "execute_result",
          "data": {
            "text/plain": [
              "0    8326\n",
              "1    5243\n",
              "Name: bad_word, dtype: int64"
            ]
          },
          "metadata": {
            "tags": []
          },
          "execution_count": 101
        }
      ]
    },
    {
      "cell_type": "markdown",
      "metadata": {
        "id": "JkARQ5ijnwlo"
      },
      "source": [
        "# Data Preprocessing"
      ]
    },
    {
      "cell_type": "markdown",
      "metadata": {
        "id": "nBzhHV1n7jJe"
      },
      "source": [
        "## Load Non-Standard Word Dictionary"
      ]
    },
    {
      "cell_type": "code",
      "metadata": {
        "id": "8glz2IaTi-HZ"
      },
      "source": [
        "non_standard_word_dict = pd.read_csv('new_kamusalay.csv', encoding = 'latin-1', header = None)\n",
        "non_standard_word_dict = non_standard_word_dict.rename(columns = {0: 'non_standard', 1: 'standard'})"
      ],
      "execution_count": null,
      "outputs": []
    },
    {
      "cell_type": "code",
      "metadata": {
        "colab": {
          "base_uri": "https://localhost:8080/",
          "height": 335
        },
        "id": "Xz2mERsGjliW",
        "outputId": "62ec7c46-a817-4849-9e7a-2a23f11a3d2c"
      },
      "source": [
        "non_standard_word_dict.tail(10)"
      ],
      "execution_count": null,
      "outputs": [
        {
          "output_type": "execute_result",
          "data": {
            "text/html": [
              "<div>\n",
              "<style scoped>\n",
              "    .dataframe tbody tr th:only-of-type {\n",
              "        vertical-align: middle;\n",
              "    }\n",
              "\n",
              "    .dataframe tbody tr th {\n",
              "        vertical-align: top;\n",
              "    }\n",
              "\n",
              "    .dataframe thead th {\n",
              "        text-align: right;\n",
              "    }\n",
              "</style>\n",
              "<table border=\"1\" class=\"dataframe\">\n",
              "  <thead>\n",
              "    <tr style=\"text-align: right;\">\n",
              "      <th></th>\n",
              "      <th>non_standard</th>\n",
              "      <th>standard</th>\n",
              "    </tr>\n",
              "  </thead>\n",
              "  <tbody>\n",
              "    <tr>\n",
              "      <th>15157</th>\n",
              "      <td>memengusir</td>\n",
              "      <td>mengusir</td>\n",
              "    </tr>\n",
              "    <tr>\n",
              "      <th>15158</th>\n",
              "      <td>menayukuri</td>\n",
              "      <td>mensyukuri</td>\n",
              "    </tr>\n",
              "    <tr>\n",
              "      <th>15159</th>\n",
              "      <td>menag</td>\n",
              "      <td>menteri agama</td>\n",
              "    </tr>\n",
              "    <tr>\n",
              "      <th>15160</th>\n",
              "      <td>menagama</td>\n",
              "      <td>menteri agama</td>\n",
              "    </tr>\n",
              "    <tr>\n",
              "      <th>15161</th>\n",
              "      <td>mendagri</td>\n",
              "      <td>menteri dalam negeri</td>\n",
              "    </tr>\n",
              "    <tr>\n",
              "      <th>15162</th>\n",
              "      <td>mendikbud</td>\n",
              "      <td>menteri pendidikan dan kebudayaan</td>\n",
              "    </tr>\n",
              "    <tr>\n",
              "      <th>15163</th>\n",
              "      <td>mendag</td>\n",
              "      <td>menteri perdagangan</td>\n",
              "    </tr>\n",
              "    <tr>\n",
              "      <th>15164</th>\n",
              "      <td>menaker</td>\n",
              "      <td>menteri tenaga kerja</td>\n",
              "    </tr>\n",
              "    <tr>\n",
              "      <th>15165</th>\n",
              "      <td>memetwit</td>\n",
              "      <td>mentwit</td>\n",
              "    </tr>\n",
              "    <tr>\n",
              "      <th>15166</th>\n",
              "      <td>megangin</td>\n",
              "      <td>memegang</td>\n",
              "    </tr>\n",
              "  </tbody>\n",
              "</table>\n",
              "</div>"
            ],
            "text/plain": [
              "      non_standard                           standard\n",
              "15157   memengusir                           mengusir\n",
              "15158   menayukuri                         mensyukuri\n",
              "15159        menag                      menteri agama\n",
              "15160     menagama                      menteri agama\n",
              "15161     mendagri               menteri dalam negeri\n",
              "15162    mendikbud  menteri pendidikan dan kebudayaan\n",
              "15163       mendag                menteri perdagangan\n",
              "15164      menaker               menteri tenaga kerja\n",
              "15165     memetwit                            mentwit\n",
              "15166     megangin                           memegang"
            ]
          },
          "metadata": {
            "tags": []
          },
          "execution_count": 48
        }
      ]
    },
    {
      "cell_type": "markdown",
      "metadata": {
        "id": "-0-NWaFn7qyJ"
      },
      "source": [
        "## Download and Load Indonesian Stopword"
      ]
    },
    {
      "cell_type": "code",
      "metadata": {
        "colab": {
          "base_uri": "https://localhost:8080/"
        },
        "id": "gN35WGxiohnv",
        "outputId": "f4160747-5a1b-4ab2-d5a2-46ea929bc750"
      },
      "source": [
        "! kaggle datasets download -d oswinrh/indonesian-stoplist"
      ],
      "execution_count": null,
      "outputs": [
        {
          "output_type": "stream",
          "text": [
            "Warning: Your Kaggle API key is readable by other users on this system! To fix this, you can run 'chmod 600 /root/.kaggle/kaggle.json'\n",
            "Downloading indonesian-stoplist.zip to /content\n",
            "  0% 0.00/2.27k [00:00<?, ?B/s]\n",
            "100% 2.27k/2.27k [00:00<00:00, 3.53MB/s]\n"
          ],
          "name": "stdout"
        }
      ]
    },
    {
      "cell_type": "code",
      "metadata": {
        "colab": {
          "base_uri": "https://localhost:8080/"
        },
        "id": "LtwkvFGqoqao",
        "outputId": "ec846cea-bf73-4a8c-fdc6-d83d539b08a2"
      },
      "source": [
        "! unzip indonesian-stoplist.zip"
      ],
      "execution_count": null,
      "outputs": [
        {
          "output_type": "stream",
          "text": [
            "Archive:  indonesian-stoplist.zip\n",
            "  inflating: stopwordbahasa.csv      \n"
          ],
          "name": "stdout"
        }
      ]
    },
    {
      "cell_type": "code",
      "metadata": {
        "id": "-m6eHMzLovEa"
      },
      "source": [
        "stopword = pd.read_csv('stopwordbahasa.csv', header = None)\n",
        "stopword = stopword.rename(columns = {0: 'stopword'})"
      ],
      "execution_count": null,
      "outputs": []
    },
    {
      "cell_type": "code",
      "metadata": {
        "colab": {
          "base_uri": "https://localhost:8080/",
          "height": 335
        },
        "id": "fL2ovTrT7xfQ",
        "outputId": "27759c7f-6bc3-457e-b04d-54e500948511"
      },
      "source": [
        "stopword.head(10)"
      ],
      "execution_count": null,
      "outputs": [
        {
          "output_type": "execute_result",
          "data": {
            "text/html": [
              "<div>\n",
              "<style scoped>\n",
              "    .dataframe tbody tr th:only-of-type {\n",
              "        vertical-align: middle;\n",
              "    }\n",
              "\n",
              "    .dataframe tbody tr th {\n",
              "        vertical-align: top;\n",
              "    }\n",
              "\n",
              "    .dataframe thead th {\n",
              "        text-align: right;\n",
              "    }\n",
              "</style>\n",
              "<table border=\"1\" class=\"dataframe\">\n",
              "  <thead>\n",
              "    <tr style=\"text-align: right;\">\n",
              "      <th></th>\n",
              "      <th>stopword</th>\n",
              "    </tr>\n",
              "  </thead>\n",
              "  <tbody>\n",
              "    <tr>\n",
              "      <th>0</th>\n",
              "      <td>ada</td>\n",
              "    </tr>\n",
              "    <tr>\n",
              "      <th>1</th>\n",
              "      <td>adalah</td>\n",
              "    </tr>\n",
              "    <tr>\n",
              "      <th>2</th>\n",
              "      <td>adanya</td>\n",
              "    </tr>\n",
              "    <tr>\n",
              "      <th>3</th>\n",
              "      <td>adapun</td>\n",
              "    </tr>\n",
              "    <tr>\n",
              "      <th>4</th>\n",
              "      <td>agak</td>\n",
              "    </tr>\n",
              "    <tr>\n",
              "      <th>5</th>\n",
              "      <td>agaknya</td>\n",
              "    </tr>\n",
              "    <tr>\n",
              "      <th>6</th>\n",
              "      <td>agar</td>\n",
              "    </tr>\n",
              "    <tr>\n",
              "      <th>7</th>\n",
              "      <td>akan</td>\n",
              "    </tr>\n",
              "    <tr>\n",
              "      <th>8</th>\n",
              "      <td>akankah</td>\n",
              "    </tr>\n",
              "    <tr>\n",
              "      <th>9</th>\n",
              "      <td>akhir</td>\n",
              "    </tr>\n",
              "  </tbody>\n",
              "</table>\n",
              "</div>"
            ],
            "text/plain": [
              "  stopword\n",
              "0      ada\n",
              "1   adalah\n",
              "2   adanya\n",
              "3   adapun\n",
              "4     agak\n",
              "5  agaknya\n",
              "6     agar\n",
              "7     akan\n",
              "8  akankah\n",
              "9    akhir"
            ]
          },
          "metadata": {
            "tags": []
          },
          "execution_count": 134
        }
      ]
    },
    {
      "cell_type": "markdown",
      "metadata": {
        "id": "S06u7ZYv71xG"
      },
      "source": [
        "## Preprocessing"
      ]
    },
    {
      "cell_type": "code",
      "metadata": {
        "id": "PgF3OECCnv1N"
      },
      "source": [
        "import re\n",
        "\n",
        "def remove_nonaplhanumeric(text):\n",
        "    text = re.sub('[^0-9a-zA-Z]+', ' ', text) \n",
        "    return text\n",
        "\n",
        "def remove_unnecessary_char(text):\n",
        "    text = re.sub(r'\\\\n', ' ', text)    # remove newline\n",
        "    text = re.sub(r'\\\\r', ' ', text)    # remove carriage return\n",
        "    text = re.sub('&amp', ' ', text)    # remove ampersand\n",
        "    text = re.sub(r'\\bRT\\b', ' ', text)  # remove retweet symbol\n",
        "    text = re.sub(r'\\bUSER\\b', ' ', text)    # remove username from twitter dataset\n",
        "    text = re.sub(r'\\bUSERNAME\\b', '', text)   # remove username from instagram dataset\n",
        "    text = re.sub(r'@[A-Za-z0-9_.]+', '', text)  # remove mention from instagram dataset\n",
        "    text = re.sub(r'\\burl\\b', ' ', text, flags = re.I)  # remove URL word\n",
        "    text = re.sub(r'((www\\.[^\\s]+)|(https?://[^\\s]+)|(http?://[^\\s]+))', ' ', text)  # remove URL\n",
        "    text = re.sub(r'\\\\x..', '', text)    # remove hexadecimal character\n",
        "    text = re.sub(r'  +', ' ', text) # remove extra spaces\n",
        "    return text\n",
        "\n",
        "def remove_duplicate_last_letter_helper(word):\n",
        "    if len(word) <= 1:\n",
        "        return word\n",
        "    if word[-1] == word[-2] and word[-1].isalpha():\n",
        "        return  remove_duplicate_last_letter_helper(word[:-1])\n",
        "    else:\n",
        "        return word\n",
        "\n",
        "def remove_duplicate_last_letter(text):\n",
        "    return ' '.join([remove_duplicate_last_letter_helper(word) for word in text.split(' ')])\n",
        "    \n",
        "non_standard_word_map = dict(zip(non_standard_word_dict['non_standard'], non_standard_word_dict['standard']))\n",
        "def normalize_word(text):\n",
        "    return ' '.join([non_standard_word_map[word] if word in non_standard_word_map else word for word in text.split(' ')])\n",
        "\n",
        "def remove_stopword(text):\n",
        "    text = ' '.join(['' if word in stopword['stopword'].values else word for word in text.split(' ')])\n",
        "    text = re.sub('  +', ' ', text) # remove extra spaces\n",
        "    text = text.strip()\n",
        "    return text\n",
        "\n",
        "def preprocess(text):\n",
        "    text = remove_unnecessary_char(text)\n",
        "    text = remove_nonaplhanumeric(text)\n",
        "    text = text.strip()\n",
        "    text = text.lower()\n",
        "    text = remove_duplicate_last_letter(text)\n",
        "    text = normalize_word(text)\n",
        "    text = remove_stopword(text)\n",
        "    return text"
      ],
      "execution_count": null,
      "outputs": []
    },
    {
      "cell_type": "code",
      "metadata": {
        "id": "ORFD4SYCphQv"
      },
      "source": [
        "dataset['text'] = dataset['text'].apply(preprocess)"
      ],
      "execution_count": null,
      "outputs": []
    },
    {
      "cell_type": "code",
      "metadata": {
        "id": "iflGPA5WpoaQ"
      },
      "source": [
        "dataset.drop_duplicates(inplace = True)"
      ],
      "execution_count": null,
      "outputs": []
    },
    {
      "cell_type": "code",
      "metadata": {
        "colab": {
          "base_uri": "https://localhost:8080/",
          "height": 335
        },
        "id": "uiVGYBdiJk5E",
        "outputId": "f64a0bad-0ecc-4f0f-bc46-5283dd79df4c"
      },
      "source": [
        "dataset.head(10)"
      ],
      "execution_count": null,
      "outputs": [
        {
          "output_type": "execute_result",
          "data": {
            "text/html": [
              "<div>\n",
              "<style scoped>\n",
              "    .dataframe tbody tr th:only-of-type {\n",
              "        vertical-align: middle;\n",
              "    }\n",
              "\n",
              "    .dataframe tbody tr th {\n",
              "        vertical-align: top;\n",
              "    }\n",
              "\n",
              "    .dataframe thead th {\n",
              "        text-align: right;\n",
              "    }\n",
              "</style>\n",
              "<table border=\"1\" class=\"dataframe\">\n",
              "  <thead>\n",
              "    <tr style=\"text-align: right;\">\n",
              "      <th></th>\n",
              "      <th>text</th>\n",
              "      <th>bad_word</th>\n",
              "    </tr>\n",
              "  </thead>\n",
              "  <tbody>\n",
              "    <tr>\n",
              "      <th>0</th>\n",
              "      <td>cowok berusaha melacak perhatian gue lantas re...</td>\n",
              "      <td>1</td>\n",
              "    </tr>\n",
              "    <tr>\n",
              "      <th>1</th>\n",
              "      <td>telat tau edan sarap gue bergaul cigax jifla c...</td>\n",
              "      <td>1</td>\n",
              "    </tr>\n",
              "    <tr>\n",
              "      <th>2</th>\n",
              "      <td>41 kadang berpikir percaya tuhan jatuh berkali...</td>\n",
              "      <td>0</td>\n",
              "    </tr>\n",
              "    <tr>\n",
              "      <th>3</th>\n",
              "      <td>ku tau matamu sipit</td>\n",
              "      <td>0</td>\n",
              "    </tr>\n",
              "    <tr>\n",
              "      <th>4</th>\n",
              "      <td>kaum cebong kafir dongoknya dungu haha</td>\n",
              "      <td>1</td>\n",
              "    </tr>\n",
              "    <tr>\n",
              "      <th>5</th>\n",
              "      <td>ya bani taplak dk</td>\n",
              "      <td>1</td>\n",
              "    </tr>\n",
              "    <tr>\n",
              "      <th>6</th>\n",
              "      <td>deklarasi pilihan kepala daerah 2018 aman anti...</td>\n",
              "      <td>0</td>\n",
              "    </tr>\n",
              "    <tr>\n",
              "      <th>7</th>\n",
              "      <td>gue selesai re watch aldnoah zero kampret 2 ka...</td>\n",
              "      <td>1</td>\n",
              "    </tr>\n",
              "    <tr>\n",
              "      <th>8</th>\n",
              "      <td>admin belanja port terbaik nak makan ais kepal...</td>\n",
              "      <td>0</td>\n",
              "    </tr>\n",
              "    <tr>\n",
              "      <th>9</th>\n",
              "      <td>enak ngewe</td>\n",
              "      <td>1</td>\n",
              "    </tr>\n",
              "  </tbody>\n",
              "</table>\n",
              "</div>"
            ],
            "text/plain": [
              "                                                text  bad_word\n",
              "0  cowok berusaha melacak perhatian gue lantas re...         1\n",
              "1  telat tau edan sarap gue bergaul cigax jifla c...         1\n",
              "2  41 kadang berpikir percaya tuhan jatuh berkali...         0\n",
              "3                                ku tau matamu sipit         0\n",
              "4             kaum cebong kafir dongoknya dungu haha         1\n",
              "5                                  ya bani taplak dk         1\n",
              "6  deklarasi pilihan kepala daerah 2018 aman anti...         0\n",
              "7  gue selesai re watch aldnoah zero kampret 2 ka...         1\n",
              "8  admin belanja port terbaik nak makan ais kepal...         0\n",
              "9                                         enak ngewe         1"
            ]
          },
          "metadata": {
            "tags": []
          },
          "execution_count": 199
        }
      ]
    },
    {
      "cell_type": "code",
      "metadata": {
        "colab": {
          "base_uri": "https://localhost:8080/"
        },
        "id": "a9cj_ykcprRJ",
        "outputId": "aa5b56d7-d0c8-4414-8503-c9e7eb02e9aa"
      },
      "source": [
        "dataset['bad_word'].value_counts()"
      ],
      "execution_count": null,
      "outputs": [
        {
          "output_type": "execute_result",
          "data": {
            "text/plain": [
              "0    8084\n",
              "1    5016\n",
              "Name: bad_word, dtype: int64"
            ]
          },
          "metadata": {
            "tags": []
          },
          "execution_count": 136
        }
      ]
    },
    {
      "cell_type": "code",
      "metadata": {
        "id": "Nu-o-RZrg51d"
      },
      "source": [
        "dataset.to_csv('dataset_v2.csv', index = False)"
      ],
      "execution_count": null,
      "outputs": []
    },
    {
      "cell_type": "markdown",
      "metadata": {
        "id": "SYrxQN1Lw3j0"
      },
      "source": [
        "# Splitting Dataset"
      ]
    },
    {
      "cell_type": "code",
      "metadata": {
        "id": "eviou7Wew6YL"
      },
      "source": [
        "from sklearn.model_selection import train_test_split"
      ],
      "execution_count": null,
      "outputs": []
    },
    {
      "cell_type": "code",
      "metadata": {
        "id": "DvRZqg72xB7R"
      },
      "source": [
        "# Split dataset to training (80%), validation (10%), and test (10%) set\n",
        "x_train, x_test, y_train, y_test = train_test_split(dataset['text'], dataset['bad_word'], test_size = 0.2, stratify = dataset['bad_word'], random_state = 42)\n",
        "x_val, x_test, y_val, y_test = train_test_split(x_test, y_test, test_size = 0.5, stratify = y_test, random_state = 42)"
      ],
      "execution_count": null,
      "outputs": []
    },
    {
      "cell_type": "markdown",
      "metadata": {
        "id": "_R6tobAFO0AG"
      },
      "source": [
        "# Building Model"
      ]
    },
    {
      "cell_type": "code",
      "metadata": {
        "id": "4hUivfS9qPNQ"
      },
      "source": [
        "try:\n",
        "    %tensorflow_version 2.x\n",
        "except:\n",
        "    pass"
      ],
      "execution_count": null,
      "outputs": []
    },
    {
      "cell_type": "code",
      "metadata": {
        "colab": {
          "base_uri": "https://localhost:8080/"
        },
        "id": "kheeKcsIqVQN",
        "outputId": "4d4bcc49-30a7-479e-f728-5ea19ea1a7a6"
      },
      "source": [
        "import tensorflow as tf\n",
        "import tensorflow_hub as hub\n",
        "\n",
        "print(\"\\u2022 Using TensorFlow Version:\", tf.__version__)"
      ],
      "execution_count": null,
      "outputs": [
        {
          "output_type": "stream",
          "text": [
            "• Using TensorFlow Version: 2.5.0\n"
          ],
          "name": "stdout"
        }
      ]
    },
    {
      "cell_type": "markdown",
      "metadata": {
        "id": "ksOKyORvp6F0"
      },
      "source": [
        "## Load Pretrained 128-Dimensional Embedding"
      ]
    },
    {
      "cell_type": "code",
      "metadata": {
        "id": "EwKAq-P3rTPo"
      },
      "source": [
        "embedding = hub.load(\"https://tfhub.dev/google/tf2-preview/nnlm-id-dim128-with-normalization/1\")\n",
        "hub_layer = hub.KerasLayer(embedding, input_shape = [], dtype = tf.string, trainable = True)"
      ],
      "execution_count": null,
      "outputs": []
    },
    {
      "cell_type": "markdown",
      "metadata": {
        "id": "JVFLvf0vkhlA"
      },
      "source": [
        "## Training"
      ]
    },
    {
      "cell_type": "code",
      "metadata": {
        "colab": {
          "base_uri": "https://localhost:8080/"
        },
        "id": "X9onc6J6PGIT",
        "outputId": "2b4a281f-c853-4847-e182-3786bf34cf06"
      },
      "source": [
        "model_lstm = tf.keras.Sequential([\n",
        "        hub_layer,\n",
        "        tf.keras.layers.Reshape(target_shape = (128, 1)),\n",
        "        tf.keras.layers.Bidirectional(tf.keras.layers.LSTM(64, return_sequences = True)),\n",
        "        tf.keras.layers.Bidirectional(tf.keras.layers.LSTM(64, return_sequences = True)),\n",
        "        tf.keras.layers.Bidirectional(tf.keras.layers.LSTM(64, return_sequences = True)),\n",
        "        tf.keras.layers.Bidirectional(tf.keras.layers.LSTM(64, return_sequences = True)),\n",
        "        tf.keras.layers.Bidirectional(tf.keras.layers.LSTM(64)),\n",
        "        tf.keras.layers.Dense(16, activation = 'relu'),\n",
        "        tf.keras.layers.Dense(1, activation = 'sigmoid')])\n",
        "\n",
        "model_lstm.compile(optimizer = 'adam', loss = 'binary_crossentropy', metrics = ['accuracy'])\n",
        "model_lstm.summary()"
      ],
      "execution_count": null,
      "outputs": [
        {
          "output_type": "stream",
          "text": [
            "Model: \"sequential_5\"\n",
            "_________________________________________________________________\n",
            "Layer (type)                 Output Shape              Param #   \n",
            "=================================================================\n",
            "keras_layer_2 (KerasLayer)   (None, 128)               112461824 \n",
            "_________________________________________________________________\n",
            "reshape_5 (Reshape)          (None, 128, 1)            0         \n",
            "_________________________________________________________________\n",
            "bidirectional_25 (Bidirectio (None, 128, 128)          33792     \n",
            "_________________________________________________________________\n",
            "bidirectional_26 (Bidirectio (None, 128, 128)          98816     \n",
            "_________________________________________________________________\n",
            "bidirectional_27 (Bidirectio (None, 128, 128)          98816     \n",
            "_________________________________________________________________\n",
            "bidirectional_28 (Bidirectio (None, 128, 128)          98816     \n",
            "_________________________________________________________________\n",
            "bidirectional_29 (Bidirectio (None, 128)               98816     \n",
            "_________________________________________________________________\n",
            "dense_10 (Dense)             (None, 16)                2064      \n",
            "_________________________________________________________________\n",
            "dense_11 (Dense)             (None, 1)                 17        \n",
            "=================================================================\n",
            "Total params: 112,892,961\n",
            "Trainable params: 112,892,961\n",
            "Non-trainable params: 0\n",
            "_________________________________________________________________\n"
          ],
          "name": "stdout"
        }
      ]
    },
    {
      "cell_type": "code",
      "metadata": {
        "colab": {
          "base_uri": "https://localhost:8080/"
        },
        "id": "XHg6hl9NPv_4",
        "outputId": "10f32d16-166b-465d-f057-d09e8917c7d0"
      },
      "source": [
        "history_lstm = model_lstm.fit(x_train, y_train, epochs = 20, validation_data = (x_val, y_val))"
      ],
      "execution_count": null,
      "outputs": [
        {
          "output_type": "stream",
          "text": [
            "Epoch 1/20\n",
            "328/328 [==============================] - 42s 95ms/step - loss: 0.3665 - accuracy: 0.8406 - val_loss: 0.2672 - val_accuracy: 0.8924\n",
            "Epoch 2/20\n",
            "328/328 [==============================] - 28s 86ms/step - loss: 0.1425 - accuracy: 0.9506 - val_loss: 0.2550 - val_accuracy: 0.9053\n",
            "Epoch 3/20\n",
            "328/328 [==============================] - 28s 86ms/step - loss: 0.0759 - accuracy: 0.9754 - val_loss: 0.4336 - val_accuracy: 0.8626\n",
            "Epoch 4/20\n",
            "328/328 [==============================] - 28s 86ms/step - loss: 0.0548 - accuracy: 0.9823 - val_loss: 0.3257 - val_accuracy: 0.8924\n",
            "Epoch 5/20\n",
            "328/328 [==============================] - 28s 86ms/step - loss: 0.0447 - accuracy: 0.9858 - val_loss: 0.3655 - val_accuracy: 0.8832\n",
            "Epoch 6/20\n",
            "328/328 [==============================] - 28s 86ms/step - loss: 0.0340 - accuracy: 0.9892 - val_loss: 0.3822 - val_accuracy: 0.8916\n",
            "Epoch 7/20\n",
            "328/328 [==============================] - 28s 86ms/step - loss: 0.0258 - accuracy: 0.9930 - val_loss: 0.4654 - val_accuracy: 0.8847\n",
            "Epoch 8/20\n",
            "328/328 [==============================] - 28s 86ms/step - loss: 0.0226 - accuracy: 0.9933 - val_loss: 0.4499 - val_accuracy: 0.8840\n",
            "Epoch 9/20\n",
            "328/328 [==============================] - 28s 86ms/step - loss: 0.0215 - accuracy: 0.9936 - val_loss: 0.4799 - val_accuracy: 0.8748\n",
            "Epoch 10/20\n",
            "328/328 [==============================] - 28s 86ms/step - loss: 0.0159 - accuracy: 0.9957 - val_loss: 0.5298 - val_accuracy: 0.8809\n",
            "Epoch 11/20\n",
            "328/328 [==============================] - 28s 86ms/step - loss: 0.0157 - accuracy: 0.9960 - val_loss: 0.5411 - val_accuracy: 0.8763\n",
            "Epoch 12/20\n",
            "328/328 [==============================] - 28s 86ms/step - loss: 0.0135 - accuracy: 0.9964 - val_loss: 0.6130 - val_accuracy: 0.8725\n",
            "Epoch 13/20\n",
            "328/328 [==============================] - 28s 87ms/step - loss: 0.0227 - accuracy: 0.9931 - val_loss: 0.3902 - val_accuracy: 0.8809\n",
            "Epoch 14/20\n",
            "328/328 [==============================] - 28s 86ms/step - loss: 0.0243 - accuracy: 0.9927 - val_loss: 0.5070 - val_accuracy: 0.8832\n",
            "Epoch 15/20\n",
            "328/328 [==============================] - 28s 87ms/step - loss: 0.0163 - accuracy: 0.9948 - val_loss: 0.5011 - val_accuracy: 0.8832\n",
            "Epoch 16/20\n",
            "328/328 [==============================] - 28s 86ms/step - loss: 0.0117 - accuracy: 0.9968 - val_loss: 0.5755 - val_accuracy: 0.8786\n",
            "Epoch 17/20\n",
            "328/328 [==============================] - 28s 86ms/step - loss: 0.0103 - accuracy: 0.9974 - val_loss: 0.5214 - val_accuracy: 0.8809\n",
            "Epoch 18/20\n",
            "328/328 [==============================] - 28s 86ms/step - loss: 0.0083 - accuracy: 0.9975 - val_loss: 0.5966 - val_accuracy: 0.8748\n",
            "Epoch 19/20\n",
            "328/328 [==============================] - 28s 86ms/step - loss: 0.0112 - accuracy: 0.9969 - val_loss: 0.5836 - val_accuracy: 0.8832\n",
            "Epoch 20/20\n",
            "328/328 [==============================] - 28s 86ms/step - loss: 0.0077 - accuracy: 0.9974 - val_loss: 0.6029 - val_accuracy: 0.8809\n"
          ],
          "name": "stdout"
        }
      ]
    },
    {
      "cell_type": "markdown",
      "metadata": {
        "id": "oK2MAXOjkndL"
      },
      "source": [
        "## Evaluation"
      ]
    },
    {
      "cell_type": "code",
      "metadata": {
        "colab": {
          "base_uri": "https://localhost:8080/"
        },
        "id": "xMQVsm5uP2NH",
        "outputId": "1b136bf6-a074-432a-fa85-089d8c30fc1e"
      },
      "source": [
        "x_test = x_test.apply(preprocess)\n",
        "eval_results_lstm = model_lstm.evaluate(x_test, y_test)\n",
        "\n",
        "for metric, value in zip(model_lstm.metrics_names, eval_results_lstm):\n",
        "    print(metric + ': {:.3}'.format(value))"
      ],
      "execution_count": null,
      "outputs": [
        {
          "output_type": "stream",
          "text": [
            "41/41 [==============================] - 1s 28ms/step - loss: 0.8271 - accuracy: 0.8588\n",
            "loss: 0.827\n",
            "accuracy: 0.859\n"
          ],
          "name": "stdout"
        }
      ]
    },
    {
      "cell_type": "code",
      "metadata": {
        "id": "PfgtDEYYfiIl"
      },
      "source": [
        "from sklearn.metrics import confusion_matrix\n",
        "import seaborn as sns\n",
        "\n",
        "def plot_confusion_matrix(y_true, y_prediction):\n",
        "    cm = confusion_matrix(y_true, y_prediction)\n",
        "    sns.heatmap(cm, annot = True, fmt = 'g', cmap = 'Greens')"
      ],
      "execution_count": null,
      "outputs": []
    },
    {
      "cell_type": "code",
      "metadata": {
        "colab": {
          "base_uri": "https://localhost:8080/",
          "height": 265
        },
        "id": "2UNImtmyjpyU",
        "outputId": "a51858e2-b21c-49ea-8b2b-38d43fa01b9d"
      },
      "source": [
        "THRESHOLD = 0.5\n",
        "\n",
        "y_prediction = model_lstm.predict(x_test) > THRESHOLD\n",
        "plot_confusion_matrix(y_test, y_prediction)"
      ],
      "execution_count": null,
      "outputs": [
        {
          "output_type": "display_data",
          "data": {
            "image/png": "[encoded data removed]",
            "text/plain": [
              "<Figure size 432x288 with 2 Axes>"
            ]
          },
          "metadata": {
            "tags": [],
            "needs_background": "light"
          }
        }
      ]
    },
    {
      "cell_type": "markdown",
      "metadata": {
        "id": "b45_rVWvThM7"
      },
      "source": [
        "# Deployment"
      ]
    },
    {
      "cell_type": "code",
      "metadata": {
        "colab": {
          "base_uri": "https://localhost:8080/"
        },
        "id": "g5637wBRXEVO",
        "outputId": "2ad5c1e3-384e-476a-b71a-c44ddc2b87f0"
      },
      "source": [
        "model_lstm.save('lstm-128-v2')"
      ],
      "execution_count": null,
      "outputs": [
        {
          "output_type": "stream",
          "text": [
            "WARNING:absl:Found untraced functions such as lstm_cell_76_layer_call_fn, lstm_cell_76_layer_call_and_return_conditional_losses, lstm_cell_77_layer_call_fn, lstm_cell_77_layer_call_and_return_conditional_losses, lstm_cell_79_layer_call_fn while saving (showing 5 of 50). These functions will not be directly callable after loading.\n"
          ],
          "name": "stderr"
        },
        {
          "output_type": "stream",
          "text": [
            "INFO:tensorflow:Assets written to: lstm-128-v2/assets\n"
          ],
          "name": "stdout"
        },
        {
          "output_type": "stream",
          "text": [
            "INFO:tensorflow:Assets written to: lstm-128-v2/assets\n"
          ],
          "name": "stderr"
        }
      ]
    },
    {
      "cell_type": "code",
      "metadata": {
        "id": "29T1WswRTa4m"
      },
      "source": [
        "import sys\n",
        "\n",
        "if 'google.colab' in sys.modules:\n",
        "    from google.colab import auth as google_auth\n",
        "    google_auth.authenticate_user()"
      ],
      "execution_count": null,
      "outputs": []
    },
    {
      "cell_type": "markdown",
      "metadata": {
        "id": "rLCC9Txq3GN_"
      },
      "source": [
        "## Create Cloud Storage Bucket"
      ]
    },
    {
      "cell_type": "code",
      "metadata": {
        "id": "WFJ_akV9z76O"
      },
      "source": [
        "REGION = \"\"\n",
        "PROJECT_ID = \"\"\n",
        "BUCKET_NAME = \"\""
      ],
      "execution_count": null,
      "outputs": []
    },
    {
      "cell_type": "code",
      "metadata": {
        "id": "rgmraUSyy26R"
      },
      "source": [
        "! gsutil mb -l $REGION -p $PROJECT_ID gs://$BUCKET_NAME"
      ],
      "execution_count": null,
      "outputs": []
    },
    {
      "cell_type": "markdown",
      "metadata": {
        "id": "XGouqD1u3Uzz"
      },
      "source": [
        "## Upload Model to Cloud Storage"
      ]
    },
    {
      "cell_type": "code",
      "metadata": {
        "colab": {
          "base_uri": "https://localhost:8080/"
        },
        "id": "mjtQTAvLTtoy",
        "outputId": "6d02b820-6d98-4747-f223-96ed4dc156fa"
      },
      "source": [
        "! gsutil -m cp -r ./lstm-128-v2 gs://$BUCKET_NAME"
      ],
      "execution_count": null,
      "outputs": [
        {
          "output_type": "stream",
          "text": [
            "Copying file://./lstm-128-v2/saved_model.pb [Content-Type=application/octet-stream]...\n",
            "/ [0/5 files][    0.0 B/  1.3 GiB]   0% Done                                    \rCopying file://./lstm-128-v2/variables/variables.data-00000-of-00001 [Content-Type=application/octet-stream]...\n",
            "Copying file://./lstm-128-v2/assets/tokens.txt [Content-Type=text/plain]...\n",
            "/ [0/5 files][    0.0 B/  1.3 GiB]   0% Done                                    \r/ [0/5 files][    0.0 B/  1.3 GiB]   0% Done                                    \rCopying file://./lstm-128-v2/keras_metadata.pb [Content-Type=application/octet-stream]...\n",
            "/ [0/5 files][    0.0 B/  1.3 GiB]   0% Done                                    \r==> NOTE: You are uploading one or more large file(s), which would run\n",
            "significantly faster if you enable parallel composite uploads. This\n",
            "feature can be enabled by editing the\n",
            "\"parallel_composite_upload_threshold\" value in your .boto\n",
            "configuration file. However, note that if you do this large files will\n",
            "be uploaded as `composite objects\n",
            "<https://cloud.google.com/storage/docs/composite-objects>`_,which\n",
            "means that any user who downloads such objects will need to have a\n",
            "compiled crcmod installed (see \"gsutil help crcmod\"). This is because\n",
            "without a compiled crcmod, computing checksums on composite objects is\n",
            "so slow that gsutil disables downloads of composite objects.\n",
            "\n",
            "Copying file://./lstm-128-v2/variables/variables.index [Content-Type=application/octet-stream]...\n",
            "\\ [5/5 files][  1.3 GiB/  1.3 GiB] 100% Done 106.5 MiB/s ETA 00:00:00           \n",
            "Operation completed over 5 objects/1.3 GiB.                                      \n"
          ],
          "name": "stdout"
        }
      ]
    },
    {
      "cell_type": "markdown",
      "metadata": {
        "id": "wGOR3Dds3dgQ"
      },
      "source": [
        "## Create AI Platform Model "
      ]
    },
    {
      "cell_type": "code",
      "metadata": {
        "id": "jWXkG3jj0sHi"
      },
      "source": [
        "MODEL_NAME = \"\""
      ],
      "execution_count": null,
      "outputs": []
    },
    {
      "cell_type": "code",
      "metadata": {
        "id": "F6OeURsK0ivt"
      },
      "source": [
        "! gcloud ai-platform models create $MODEL_NAME \\\n",
        "    --region=$REGION \\\n",
        "    --project=$PROJECT_ID"
      ],
      "execution_count": null,
      "outputs": []
    },
    {
      "cell_type": "markdown",
      "metadata": {
        "id": "F9K1_hor3xnO"
      },
      "source": [
        "## Create Model Version"
      ]
    },
    {
      "cell_type": "code",
      "metadata": {
        "id": "Stlqx09P1JXy"
      },
      "source": [
        "MODEL_DIR = \"gs://{}/lstm-128-v2/\".format(BUCKET_NAME)\n",
        "VERSION_NAME = \"\"\n",
        "MACHINE_TYPE = \"\""
      ],
      "execution_count": null,
      "outputs": []
    },
    {
      "cell_type": "code",
      "metadata": {
        "id": "vWjBTw3D07Bg"
      },
      "source": [
        "! gcloud ai-platform versions create $VERSION_NAME \\\n",
        "  --model=$MODEL_NAME \\\n",
        "  --origin=$MODEL_DIR \\\n",
        "  --runtime-version=2.4 \\\n",
        "  --framework=tensorflow \\\n",
        "  --python-version=3.7 \\\n",
        "  --region=$REGION \\\n",
        "  --machine-type=$MACHINE_TYPE \\\n",
        "  --project=$PROJECT_ID"
      ],
      "execution_count": null,
      "outputs": []
    },
    {
      "cell_type": "markdown",
      "metadata": {
        "id": "ZCIqcl8136VG"
      },
      "source": [
        "## Send Prediction Request"
      ]
    },
    {
      "cell_type": "code",
      "metadata": {
        "id": "MQXVhEEwdRsd"
      },
      "source": [
        "import json\n",
        "\n",
        "texts = [\n",
        "          \"tanggal 1 juni diperingati sebagai hari pancasila.\",\n",
        "          \"lama kali kau datang anjeng, dari mana aja kau?\"\n",
        "        ]\n",
        "\n",
        "input = {\"instances\": [preprocess(text) for text in texts]}\n",
        "\n",
        "with open('data.json', 'w') as outfile:\n",
        "    json.dump(input, outfile)"
      ],
      "execution_count": null,
      "outputs": []
    },
    {
      "cell_type": "code",
      "metadata": {
        "id": "JoCyMJlBXwq2"
      },
      "source": [
        "! gcloud ai-platform predict \\\n",
        "    --project=$PROJECT_ID \\\n",
        "    --model=$MODEL_NAME \\\n",
        "    --version=$VERSION_NAME \\\n",
        "    --json-request=data.json \\\n",
        "    --region=$REGION"
      ],
      "execution_count": null,
      "outputs": []
    },
    {
      "cell_type": "markdown",
      "metadata": {
        "id": "UxxhDl0VGz7l"
      },
      "source": [
        "Contoh Output:\n",
        "\n",
        "```\n",
        "Using endpoint [https://asia-southeast1-ml.googleapis.com/]\n",
        "[[0.000398784876], [0.987283885]]\n",
        "```"
      ]
    }
  ]
}