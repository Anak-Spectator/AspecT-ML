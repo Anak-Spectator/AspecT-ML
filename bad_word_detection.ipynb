{
  "nbformat": 4,
  "nbformat_minor": 0,
  "metadata": {
    "colab": {
      "name": "bad_word_detection.ipynb",
      "provenance": [],
      "collapsed_sections": [],
      "toc_visible": true
    },
    "kernelspec": {
      "name": "python3",
      "display_name": "Python 3"
    },
    "language_info": {
      "name": "python"
    },
    "accelerator": "GPU"
  },
  "cells": [
    {
      "cell_type": "markdown",
      "metadata": {
        "id": "yjnUUWu2k3D1"
      },
      "source": [
        "# Download Dataset from Kaggle"
      ]
    },
    {
      "cell_type": "code",
      "metadata": {
        "id": "9HKLcJVci7a5"
      },
      "source": [
        "! pip install -q kaggle"
      ],
      "execution_count": null,
      "outputs": []
    },
    {
      "cell_type": "code",
      "metadata": {
        "id": "Ue64LaHgjCeo"
      },
      "source": [
        "from google.colab import files\n",
        "files.upload()"
      ],
      "execution_count": null,
      "outputs": []
    },
    {
      "cell_type": "code",
      "metadata": {
        "id": "6_oNF03XkhM9"
      },
      "source": [
        "! mkdir ~/.kaggle\n",
        "! cp kaggle.json ~/.kaggle/"
      ],
      "execution_count": null,
      "outputs": []
    },
    {
      "cell_type": "code",
      "metadata": {
        "id": "kA3eO4x6jfKT"
      },
      "source": [
        "! chmod 600 kaggle.json"
      ],
      "execution_count": null,
      "outputs": []
    },
    {
      "cell_type": "code",
      "metadata": {
        "colab": {
          "base_uri": "https://localhost:8080/"
        },
        "id": "svznaQPYjjNI",
        "outputId": "2c466b3a-35b0-41a2-dbdd-2e107c1b854d"
      },
      "source": [
        "! kaggle datasets download -d ilhamfp31/indonesian-abusive-and-hate-speech-twitter-text"
      ],
      "execution_count": null,
      "outputs": [
        {
          "output_type": "stream",
          "text": [
            "Warning: Your Kaggle API key is readable by other users on this system! To fix this, you can run 'chmod 600 /root/.kaggle/kaggle.json'\n",
            "Downloading indonesian-abusive-and-hate-speech-twitter-text.zip to /content\n",
            "  0% 0.00/814k [00:00<?, ?B/s]\n",
            "100% 814k/814k [00:00<00:00, 56.0MB/s]\n"
          ],
          "name": "stdout"
        }
      ]
    },
    {
      "cell_type": "code",
      "metadata": {
        "colab": {
          "base_uri": "https://localhost:8080/"
        },
        "id": "FIpUvbyZjuqn",
        "outputId": "025bf00b-f746-4b44-a941-0e06d6926534"
      },
      "source": [
        "! unzip indonesian-abusive-and-hate-speech-twitter-text.zip"
      ],
      "execution_count": null,
      "outputs": [
        {
          "output_type": "stream",
          "text": [
            "Archive:  indonesian-abusive-and-hate-speech-twitter-text.zip\n",
            "  inflating: README.md               \n",
            "  inflating: abusive.csv             \n",
            "  inflating: citation.bib            \n",
            "  inflating: data.csv                \n",
            "  inflating: new_kamusalay.csv       \n"
          ],
          "name": "stdout"
        }
      ]
    },
    {
      "cell_type": "markdown",
      "metadata": {
        "id": "jWmmOod9k70y"
      },
      "source": [
        "# Dataset Preparation"
      ]
    },
    {
      "cell_type": "code",
      "metadata": {
        "id": "AbNhHAeejV3S"
      },
      "source": [
        "import pandas as pd"
      ],
      "execution_count": null,
      "outputs": []
    },
    {
      "cell_type": "markdown",
      "metadata": {
        "id": "89YyesEem6Vv"
      },
      "source": [
        "## Abusive Twitter Dataset"
      ]
    },
    {
      "cell_type": "code",
      "metadata": {
        "id": "aDCyaL9PlF-x"
      },
      "source": [
        "twitter_dataset = pd.read_csv('data.csv', encoding = 'latin-1')"
      ],
      "execution_count": null,
      "outputs": []
    },
    {
      "cell_type": "code",
      "metadata": {
        "colab": {
          "base_uri": "https://localhost:8080/",
          "height": 356
        },
        "id": "-qwAW3YylcEg",
        "outputId": "e27a4435-8ee5-4bf8-c6a2-5bd9452e9b21"
      },
      "source": [
        "twitter_dataset.head(10)"
      ],
      "execution_count": null,
      "outputs": [
        {
          "output_type": "execute_result",
          "data": {
            "text/html": [
              "<div>\n",
              "<style scoped>\n",
              "    .dataframe tbody tr th:only-of-type {\n",
              "        vertical-align: middle;\n",
              "    }\n",
              "\n",
              "    .dataframe tbody tr th {\n",
              "        vertical-align: top;\n",
              "    }\n",
              "\n",
              "    .dataframe thead th {\n",
              "        text-align: right;\n",
              "    }\n",
              "</style>\n",
              "<table border=\"1\" class=\"dataframe\">\n",
              "  <thead>\n",
              "    <tr style=\"text-align: right;\">\n",
              "      <th></th>\n",
              "      <th>Tweet</th>\n",
              "      <th>HS</th>\n",
              "      <th>Abusive</th>\n",
              "      <th>HS_Individual</th>\n",
              "      <th>HS_Group</th>\n",
              "      <th>HS_Religion</th>\n",
              "      <th>HS_Race</th>\n",
              "      <th>HS_Physical</th>\n",
              "      <th>HS_Gender</th>\n",
              "      <th>HS_Other</th>\n",
              "      <th>HS_Weak</th>\n",
              "      <th>HS_Moderate</th>\n",
              "      <th>HS_Strong</th>\n",
              "    </tr>\n",
              "  </thead>\n",
              "  <tbody>\n",
              "    <tr>\n",
              "      <th>0</th>\n",
              "      <td>- disaat semua cowok berusaha melacak perhatia...</td>\n",
              "      <td>1</td>\n",
              "      <td>1</td>\n",
              "      <td>1</td>\n",
              "      <td>0</td>\n",
              "      <td>0</td>\n",
              "      <td>0</td>\n",
              "      <td>0</td>\n",
              "      <td>0</td>\n",
              "      <td>1</td>\n",
              "      <td>1</td>\n",
              "      <td>0</td>\n",
              "      <td>0</td>\n",
              "    </tr>\n",
              "    <tr>\n",
              "      <th>1</th>\n",
              "      <td>RT USER: USER siapa yang telat ngasih tau elu?...</td>\n",
              "      <td>0</td>\n",
              "      <td>1</td>\n",
              "      <td>0</td>\n",
              "      <td>0</td>\n",
              "      <td>0</td>\n",
              "      <td>0</td>\n",
              "      <td>0</td>\n",
              "      <td>0</td>\n",
              "      <td>0</td>\n",
              "      <td>0</td>\n",
              "      <td>0</td>\n",
              "      <td>0</td>\n",
              "    </tr>\n",
              "    <tr>\n",
              "      <th>2</th>\n",
              "      <td>41. Kadang aku berfikir, kenapa aku tetap perc...</td>\n",
              "      <td>0</td>\n",
              "      <td>0</td>\n",
              "      <td>0</td>\n",
              "      <td>0</td>\n",
              "      <td>0</td>\n",
              "      <td>0</td>\n",
              "      <td>0</td>\n",
              "      <td>0</td>\n",
              "      <td>0</td>\n",
              "      <td>0</td>\n",
              "      <td>0</td>\n",
              "      <td>0</td>\n",
              "    </tr>\n",
              "    <tr>\n",
              "      <th>3</th>\n",
              "      <td>USER USER AKU ITU AKU\\n\\nKU TAU MATAMU SIPIT T...</td>\n",
              "      <td>0</td>\n",
              "      <td>0</td>\n",
              "      <td>0</td>\n",
              "      <td>0</td>\n",
              "      <td>0</td>\n",
              "      <td>0</td>\n",
              "      <td>0</td>\n",
              "      <td>0</td>\n",
              "      <td>0</td>\n",
              "      <td>0</td>\n",
              "      <td>0</td>\n",
              "      <td>0</td>\n",
              "    </tr>\n",
              "    <tr>\n",
              "      <th>4</th>\n",
              "      <td>USER USER Kaum cebong kapir udah keliatan dong...</td>\n",
              "      <td>1</td>\n",
              "      <td>1</td>\n",
              "      <td>0</td>\n",
              "      <td>1</td>\n",
              "      <td>1</td>\n",
              "      <td>0</td>\n",
              "      <td>0</td>\n",
              "      <td>0</td>\n",
              "      <td>0</td>\n",
              "      <td>0</td>\n",
              "      <td>1</td>\n",
              "      <td>0</td>\n",
              "    </tr>\n",
              "    <tr>\n",
              "      <th>5</th>\n",
              "      <td>USER Ya bani taplak dkk \\xf0\\x9f\\x98\\x84\\xf0\\x...</td>\n",
              "      <td>1</td>\n",
              "      <td>1</td>\n",
              "      <td>0</td>\n",
              "      <td>1</td>\n",
              "      <td>0</td>\n",
              "      <td>0</td>\n",
              "      <td>0</td>\n",
              "      <td>0</td>\n",
              "      <td>1</td>\n",
              "      <td>0</td>\n",
              "      <td>1</td>\n",
              "      <td>0</td>\n",
              "    </tr>\n",
              "    <tr>\n",
              "      <th>6</th>\n",
              "      <td>deklarasi pilkada 2018 aman dan anti hoax warg...</td>\n",
              "      <td>0</td>\n",
              "      <td>0</td>\n",
              "      <td>0</td>\n",
              "      <td>0</td>\n",
              "      <td>0</td>\n",
              "      <td>0</td>\n",
              "      <td>0</td>\n",
              "      <td>0</td>\n",
              "      <td>0</td>\n",
              "      <td>0</td>\n",
              "      <td>0</td>\n",
              "      <td>0</td>\n",
              "    </tr>\n",
              "    <tr>\n",
              "      <th>7</th>\n",
              "      <td>Gue baru aja kelar re-watch Aldnoah Zero!!! pa...</td>\n",
              "      <td>0</td>\n",
              "      <td>1</td>\n",
              "      <td>0</td>\n",
              "      <td>0</td>\n",
              "      <td>0</td>\n",
              "      <td>0</td>\n",
              "      <td>0</td>\n",
              "      <td>0</td>\n",
              "      <td>0</td>\n",
              "      <td>0</td>\n",
              "      <td>0</td>\n",
              "      <td>0</td>\n",
              "    </tr>\n",
              "    <tr>\n",
              "      <th>8</th>\n",
              "      <td>Nah admin belanja satu lagi port terbaik nak m...</td>\n",
              "      <td>0</td>\n",
              "      <td>0</td>\n",
              "      <td>0</td>\n",
              "      <td>0</td>\n",
              "      <td>0</td>\n",
              "      <td>0</td>\n",
              "      <td>0</td>\n",
              "      <td>0</td>\n",
              "      <td>0</td>\n",
              "      <td>0</td>\n",
              "      <td>0</td>\n",
              "      <td>0</td>\n",
              "    </tr>\n",
              "    <tr>\n",
              "      <th>9</th>\n",
              "      <td>USER Enak lg klo smbil ngewe'</td>\n",
              "      <td>0</td>\n",
              "      <td>1</td>\n",
              "      <td>0</td>\n",
              "      <td>0</td>\n",
              "      <td>0</td>\n",
              "      <td>0</td>\n",
              "      <td>0</td>\n",
              "      <td>0</td>\n",
              "      <td>0</td>\n",
              "      <td>0</td>\n",
              "      <td>0</td>\n",
              "      <td>0</td>\n",
              "    </tr>\n",
              "  </tbody>\n",
              "</table>\n",
              "</div>"
            ],
            "text/plain": [
              "                                               Tweet  ...  HS_Strong\n",
              "0  - disaat semua cowok berusaha melacak perhatia...  ...          0\n",
              "1  RT USER: USER siapa yang telat ngasih tau elu?...  ...          0\n",
              "2  41. Kadang aku berfikir, kenapa aku tetap perc...  ...          0\n",
              "3  USER USER AKU ITU AKU\\n\\nKU TAU MATAMU SIPIT T...  ...          0\n",
              "4  USER USER Kaum cebong kapir udah keliatan dong...  ...          0\n",
              "5  USER Ya bani taplak dkk \\xf0\\x9f\\x98\\x84\\xf0\\x...  ...          0\n",
              "6  deklarasi pilkada 2018 aman dan anti hoax warg...  ...          0\n",
              "7  Gue baru aja kelar re-watch Aldnoah Zero!!! pa...  ...          0\n",
              "8  Nah admin belanja satu lagi port terbaik nak m...  ...          0\n",
              "9                      USER Enak lg klo smbil ngewe'  ...          0\n",
              "\n",
              "[10 rows x 13 columns]"
            ]
          },
          "metadata": {
            "tags": []
          },
          "execution_count": 9
        }
      ]
    },
    {
      "cell_type": "code",
      "metadata": {
        "id": "Q6DUBTiTlhRF"
      },
      "source": [
        "twitter_dataset.rename(columns = {'Tweet': 'text', 'Abusive': 'bad_word'}, inplace = True)\n",
        "twitter_dataset = twitter_dataset[['text', 'bad_word']]"
      ],
      "execution_count": null,
      "outputs": []
    },
    {
      "cell_type": "code",
      "metadata": {
        "colab": {
          "base_uri": "https://localhost:8080/"
        },
        "id": "s7UZPH_ml8eu",
        "outputId": "62f92d5a-b037-49db-80d4-3313602a2c19"
      },
      "source": [
        "twitter_dataset['bad_word'].value_counts()"
      ],
      "execution_count": null,
      "outputs": [
        {
          "output_type": "execute_result",
          "data": {
            "text/plain": [
              "0    8126\n",
              "1    5043\n",
              "Name: bad_word, dtype: int64"
            ]
          },
          "metadata": {
            "tags": []
          },
          "execution_count": 11
        }
      ]
    },
    {
      "cell_type": "markdown",
      "metadata": {
        "id": "qI1bTvdPnGnG"
      },
      "source": [
        "## Instagram Comment Dataset"
      ]
    },
    {
      "cell_type": "code",
      "metadata": {
        "id": "4rcF_WMenMH7"
      },
      "source": [
        "url = 'https://raw.githubusercontent.com/rizalespe/Dataset-Sentimen-Analisis-Bahasa-Indonesia/master/dataset_komentar_instagram_cyberbullying.csv'\n",
        "ig_dataset = pd.read_csv(url)"
      ],
      "execution_count": null,
      "outputs": []
    },
    {
      "cell_type": "code",
      "metadata": {
        "colab": {
          "base_uri": "https://localhost:8080/",
          "height": 356
        },
        "id": "RO-kUbdGnTlm",
        "outputId": "61fc0e95-fbf4-47a9-8a71-e022aa7d0f42"
      },
      "source": [
        "ig_dataset.head(10)"
      ],
      "execution_count": null,
      "outputs": [
        {
          "output_type": "execute_result",
          "data": {
            "text/html": [
              "<div>\n",
              "<style scoped>\n",
              "    .dataframe tbody tr th:only-of-type {\n",
              "        vertical-align: middle;\n",
              "    }\n",
              "\n",
              "    .dataframe tbody tr th {\n",
              "        vertical-align: top;\n",
              "    }\n",
              "\n",
              "    .dataframe thead th {\n",
              "        text-align: right;\n",
              "    }\n",
              "</style>\n",
              "<table border=\"1\" class=\"dataframe\">\n",
              "  <thead>\n",
              "    <tr style=\"text-align: right;\">\n",
              "      <th></th>\n",
              "      <th>Id</th>\n",
              "      <th>Sentiment</th>\n",
              "      <th>Instagram Comment Text</th>\n",
              "    </tr>\n",
              "  </thead>\n",
              "  <tbody>\n",
              "    <tr>\n",
              "      <th>0</th>\n",
              "      <td>1</td>\n",
              "      <td>negative</td>\n",
              "      <td>&lt;USERNAME&gt; TOLOL!! Gak ada hubungan nya kegug...</td>\n",
              "    </tr>\n",
              "    <tr>\n",
              "      <th>1</th>\n",
              "      <td>2</td>\n",
              "      <td>negative</td>\n",
              "      <td>Geblek lo tata...cowo bgt dibela2in balikan......</td>\n",
              "    </tr>\n",
              "    <tr>\n",
              "      <th>2</th>\n",
              "      <td>3</td>\n",
              "      <td>negative</td>\n",
              "      <td>Kmrn termewek2 skr lengket lg duhhh kok labil ...</td>\n",
              "    </tr>\n",
              "    <tr>\n",
              "      <th>3</th>\n",
              "      <td>4</td>\n",
              "      <td>negative</td>\n",
              "      <td>Intinya kalau kesel dengan ATT nya, gausah ke ...</td>\n",
              "    </tr>\n",
              "    <tr>\n",
              "      <th>4</th>\n",
              "      <td>5</td>\n",
              "      <td>negative</td>\n",
              "      <td>hadewwwww permpuan itu lg!!!!sakit jiwa,knp ha...</td>\n",
              "    </tr>\n",
              "    <tr>\n",
              "      <th>5</th>\n",
              "      <td>6</td>\n",
              "      <td>negative</td>\n",
              "      <td>Pantesan di tinggalin laki, ya lakinya juga mi...</td>\n",
              "    </tr>\n",
              "    <tr>\n",
              "      <th>6</th>\n",
              "      <td>7</td>\n",
              "      <td>negative</td>\n",
              "      <td>kebiasaan balajaer nyampah d ig para artis..su...</td>\n",
              "    </tr>\n",
              "    <tr>\n",
              "      <th>7</th>\n",
              "      <td>8</td>\n",
              "      <td>negative</td>\n",
              "      <td>krn sebagian besar rakyat indonesia itu bodoh....</td>\n",
              "    </tr>\n",
              "    <tr>\n",
              "      <th>8</th>\n",
              "      <td>9</td>\n",
              "      <td>negative</td>\n",
              "      <td>ayu janda bego pny suami kpn nikah laginya?</td>\n",
              "    </tr>\n",
              "    <tr>\n",
              "      <th>9</th>\n",
              "      <td>10</td>\n",
              "      <td>negative</td>\n",
              "      <td>Anyiennnnggg.. Suaranya ancur banget, lebih me...</td>\n",
              "    </tr>\n",
              "  </tbody>\n",
              "</table>\n",
              "</div>"
            ],
            "text/plain": [
              "   Id Sentiment                             Instagram Comment Text\n",
              "0   1  negative   <USERNAME> TOLOL!! Gak ada hubungan nya kegug...\n",
              "1   2  negative  Geblek lo tata...cowo bgt dibela2in balikan......\n",
              "2   3  negative  Kmrn termewek2 skr lengket lg duhhh kok labil ...\n",
              "3   4  negative  Intinya kalau kesel dengan ATT nya, gausah ke ...\n",
              "4   5  negative  hadewwwww permpuan itu lg!!!!sakit jiwa,knp ha...\n",
              "5   6  negative  Pantesan di tinggalin laki, ya lakinya juga mi...\n",
              "6   7  negative  kebiasaan balajaer nyampah d ig para artis..su...\n",
              "7   8  negative  krn sebagian besar rakyat indonesia itu bodoh....\n",
              "8   9  negative        ayu janda bego pny suami kpn nikah laginya?\n",
              "9  10  negative  Anyiennnnggg.. Suaranya ancur banget, lebih me..."
            ]
          },
          "metadata": {
            "tags": []
          },
          "execution_count": 13
        }
      ]
    },
    {
      "cell_type": "code",
      "metadata": {
        "id": "Q0x9vzsynVwP"
      },
      "source": [
        "ig_dataset.drop(columns = 'Id', inplace = True)\n",
        "ig_dataset.rename(columns = {'Instagram Comment Text': 'text'}, inplace = True)\n",
        "\n",
        "ig_dataset['bad_word'] = (ig_dataset['Sentiment'] == 'negative').astype(int)\n",
        "ig_dataset.drop(columns = 'Sentiment', inplace = True)"
      ],
      "execution_count": null,
      "outputs": []
    },
    {
      "cell_type": "code",
      "metadata": {
        "colab": {
          "base_uri": "https://localhost:8080/"
        },
        "id": "uykNmScynZxP",
        "outputId": "f1a545bb-6499-4c2f-9bda-24829bf82612"
      },
      "source": [
        "ig_dataset['bad_word'].value_counts()"
      ],
      "execution_count": null,
      "outputs": [
        {
          "output_type": "execute_result",
          "data": {
            "text/plain": [
              "1    200\n",
              "0    200\n",
              "Name: bad_word, dtype: int64"
            ]
          },
          "metadata": {
            "tags": []
          },
          "execution_count": 15
        }
      ]
    },
    {
      "cell_type": "markdown",
      "metadata": {
        "id": "He-jZ48yndIV"
      },
      "source": [
        "## Merging Datasets"
      ]
    },
    {
      "cell_type": "code",
      "metadata": {
        "id": "HWRt7rDgnmY-"
      },
      "source": [
        "dataset = pd.concat([twitter_dataset, ig_dataset])"
      ],
      "execution_count": null,
      "outputs": []
    },
    {
      "cell_type": "code",
      "metadata": {
        "colab": {
          "base_uri": "https://localhost:8080/"
        },
        "id": "fAOGFRQrnp49",
        "outputId": "88359e9a-b39b-4ffc-ae30-2a74461b81e1"
      },
      "source": [
        "dataset['bad_word'].value_counts()"
      ],
      "execution_count": null,
      "outputs": [
        {
          "output_type": "execute_result",
          "data": {
            "text/plain": [
              "0    8326\n",
              "1    5243\n",
              "Name: bad_word, dtype: int64"
            ]
          },
          "metadata": {
            "tags": []
          },
          "execution_count": 17
        }
      ]
    },
    {
      "cell_type": "markdown",
      "metadata": {
        "id": "JkARQ5ijnwlo"
      },
      "source": [
        "# Data Preprocessing"
      ]
    },
    {
      "cell_type": "code",
      "metadata": {
        "id": "PgF3OECCnv1N"
      },
      "source": [
        "import re\n",
        "\n",
        "def remove_nonaplhanumeric(text):\n",
        "    text = re.sub('[^0-9a-zA-Z]+', ' ', text) \n",
        "    return text\n",
        "\n",
        "def remove_unnecessary_char(text):\n",
        "    text = re.sub('\\n', ' ', text)\n",
        "    text = re.sub(r'\\brt\\b', ' ', text)  # remove retweet symbol\n",
        "    text = re.sub(r'\\buser\\b', ' ', text)    # remove username from twitter dataset\n",
        "    text = re.sub(r'\\b<USERNAME>\\b', '', text)   # remove username from instagram dataset\n",
        "    text = re.sub(r'@[A-Za-z0-9_.]+', '', text)  # remove mention from instagram dataset\n",
        "    text = re.sub(r'((www\\.[^\\s]+)|(https?://[^\\s]+)|(http?://[^\\s]+))', ' ', text)  # remove URL\n",
        "    text = re.sub(r'  +', ' ', text) # remove extra spaces\n",
        "    return text\n",
        "\n",
        "def preprocess(text):\n",
        "    text = text.lower()\n",
        "    text = remove_nonaplhanumeric(text)\n",
        "    text = remove_unnecessary_char(text)\n",
        "    return text"
      ],
      "execution_count": null,
      "outputs": []
    },
    {
      "cell_type": "code",
      "metadata": {
        "id": "ORFD4SYCphQv"
      },
      "source": [
        "dataset['text'] = dataset['text'].apply(preprocess)"
      ],
      "execution_count": null,
      "outputs": []
    },
    {
      "cell_type": "code",
      "metadata": {
        "id": "iflGPA5WpoaQ"
      },
      "source": [
        "dataset.drop_duplicates(inplace = True)"
      ],
      "execution_count": null,
      "outputs": []
    },
    {
      "cell_type": "code",
      "metadata": {
        "colab": {
          "base_uri": "https://localhost:8080/"
        },
        "id": "a9cj_ykcprRJ",
        "outputId": "f75e909e-38b2-4a64-acc7-db77139e830c"
      },
      "source": [
        "dataset['bad_word'].value_counts()"
      ],
      "execution_count": null,
      "outputs": [
        {
          "output_type": "execute_result",
          "data": {
            "text/plain": [
              "0    8179\n",
              "1    5148\n",
              "Name: bad_word, dtype: int64"
            ]
          },
          "metadata": {
            "tags": []
          },
          "execution_count": 21
        }
      ]
    },
    {
      "cell_type": "code",
      "metadata": {
        "id": "Nu-o-RZrg51d"
      },
      "source": [
        "dataset.to_csv('dataset.csv', index = False)"
      ],
      "execution_count": null,
      "outputs": []
    },
    {
      "cell_type": "markdown",
      "metadata": {
        "id": "SYrxQN1Lw3j0"
      },
      "source": [
        "# Splitting Dataset"
      ]
    },
    {
      "cell_type": "code",
      "metadata": {
        "id": "eviou7Wew6YL"
      },
      "source": [
        "from sklearn.model_selection import train_test_split"
      ],
      "execution_count": null,
      "outputs": []
    },
    {
      "cell_type": "code",
      "metadata": {
        "id": "DvRZqg72xB7R"
      },
      "source": [
        "# Split dataset to training (80%), validation (10%), and test (10%) set\n",
        "x_train, x_test, y_train, y_test = train_test_split(dataset['text'], dataset['bad_word'], test_size = 0.2, stratify = dataset['bad_word'], random_state = 42)\n",
        "x_val, x_test, y_val, y_test = train_test_split(x_test, y_test, test_size = 0.5, stratify = y_test, random_state = 42)"
      ],
      "execution_count": null,
      "outputs": []
    },
    {
      "cell_type": "markdown",
      "metadata": {
        "id": "_R6tobAFO0AG"
      },
      "source": [
        "# Building Model"
      ]
    },
    {
      "cell_type": "code",
      "metadata": {
        "id": "4hUivfS9qPNQ"
      },
      "source": [
        "try:\n",
        "    %tensorflow_version 2.x\n",
        "except:\n",
        "    pass"
      ],
      "execution_count": null,
      "outputs": []
    },
    {
      "cell_type": "code",
      "metadata": {
        "colab": {
          "base_uri": "https://localhost:8080/"
        },
        "id": "kheeKcsIqVQN",
        "outputId": "f8707888-1b54-41ea-8610-b0960531607c"
      },
      "source": [
        "import tensorflow as tf\n",
        "import tensorflow_hub as hub\n",
        "\n",
        "print(\"\\u2022 Using TensorFlow Version:\", tf.__version__)"
      ],
      "execution_count": null,
      "outputs": [
        {
          "output_type": "stream",
          "text": [
            "• Using TensorFlow Version: 2.5.0\n"
          ],
          "name": "stdout"
        }
      ]
    },
    {
      "cell_type": "markdown",
      "metadata": {
        "id": "ksOKyORvp6F0"
      },
      "source": [
        "## Load Pretrained 128-Dimensional Embedding"
      ]
    },
    {
      "cell_type": "code",
      "metadata": {
        "id": "EwKAq-P3rTPo"
      },
      "source": [
        "embedding = hub.load(\"https://tfhub.dev/google/tf2-preview/nnlm-id-dim128-with-normalization/1\")\n",
        "hub_layer = hub.KerasLayer(embedding, input_shape = [], dtype = tf.string, trainable = True)"
      ],
      "execution_count": null,
      "outputs": []
    },
    {
      "cell_type": "markdown",
      "metadata": {
        "id": "JVFLvf0vkhlA"
      },
      "source": [
        "## Training"
      ]
    },
    {
      "cell_type": "code",
      "metadata": {
        "colab": {
          "base_uri": "https://localhost:8080/"
        },
        "id": "X9onc6J6PGIT",
        "outputId": "bbe80b86-c163-4107-dab9-f6a16475c502"
      },
      "source": [
        "model_lstm = tf.keras.Sequential([\n",
        "        hub_layer,\n",
        "        tf.keras.layers.Reshape(target_shape = (128, 1)),\n",
        "        tf.keras.layers.Bidirectional(tf.keras.layers.LSTM(64, return_sequences = True)),\n",
        "        tf.keras.layers.Bidirectional(tf.keras.layers.LSTM(64, return_sequences = True)),\n",
        "        tf.keras.layers.Bidirectional(tf.keras.layers.LSTM(64, return_sequences = True)),\n",
        "        tf.keras.layers.Bidirectional(tf.keras.layers.LSTM(64, return_sequences = True)),\n",
        "        tf.keras.layers.Bidirectional(tf.keras.layers.LSTM(64)),\n",
        "        tf.keras.layers.Dense(16, activation = 'relu'),\n",
        "        tf.keras.layers.Dense(1, activation = 'sigmoid')])\n",
        "\n",
        "model_lstm.compile(optimizer = 'adam', loss = 'binary_crossentropy', metrics = ['accuracy'])\n",
        "model_lstm.summary()"
      ],
      "execution_count": null,
      "outputs": [
        {
          "output_type": "stream",
          "text": [
            "Model: \"sequential\"\n",
            "_________________________________________________________________\n",
            "Layer (type)                 Output Shape              Param #   \n",
            "=================================================================\n",
            "keras_layer (KerasLayer)     (None, 128)               112461824 \n",
            "_________________________________________________________________\n",
            "reshape (Reshape)            (None, 128, 1)            0         \n",
            "_________________________________________________________________\n",
            "bidirectional (Bidirectional (None, 128, 128)          33792     \n",
            "_________________________________________________________________\n",
            "bidirectional_1 (Bidirection (None, 128, 128)          98816     \n",
            "_________________________________________________________________\n",
            "bidirectional_2 (Bidirection (None, 128, 128)          98816     \n",
            "_________________________________________________________________\n",
            "bidirectional_3 (Bidirection (None, 128, 128)          98816     \n",
            "_________________________________________________________________\n",
            "bidirectional_4 (Bidirection (None, 128)               98816     \n",
            "_________________________________________________________________\n",
            "dense (Dense)                (None, 16)                2064      \n",
            "_________________________________________________________________\n",
            "dense_1 (Dense)              (None, 1)                 17        \n",
            "=================================================================\n",
            "Total params: 112,892,961\n",
            "Trainable params: 112,892,961\n",
            "Non-trainable params: 0\n",
            "_________________________________________________________________\n"
          ],
          "name": "stdout"
        }
      ]
    },
    {
      "cell_type": "code",
      "metadata": {
        "colab": {
          "base_uri": "https://localhost:8080/"
        },
        "id": "XHg6hl9NPv_4",
        "outputId": "665d6369-0c77-4306-f1cb-0117fd7b1c16"
      },
      "source": [
        "history_lstm = model_lstm.fit(x_train, y_train, epochs = 20, validation_data = (x_val, y_val))"
      ],
      "execution_count": null,
      "outputs": [
        {
          "output_type": "stream",
          "text": [
            "Epoch 1/20\n",
            "334/334 [==============================] - 57s 118ms/step - loss: 0.3787 - accuracy: 0.8255 - val_loss: 0.2650 - val_accuracy: 0.8897\n",
            "Epoch 2/20\n",
            "334/334 [==============================] - 36s 109ms/step - loss: 0.1369 - accuracy: 0.9481 - val_loss: 0.3329 - val_accuracy: 0.8972\n",
            "Epoch 3/20\n",
            "334/334 [==============================] - 36s 109ms/step - loss: 0.0513 - accuracy: 0.9812 - val_loss: 0.3463 - val_accuracy: 0.8912\n",
            "Epoch 4/20\n",
            "334/334 [==============================] - 36s 109ms/step - loss: 0.0321 - accuracy: 0.9893 - val_loss: 0.3971 - val_accuracy: 0.8792\n",
            "Epoch 5/20\n",
            "334/334 [==============================] - 36s 109ms/step - loss: 0.0203 - accuracy: 0.9935 - val_loss: 0.4878 - val_accuracy: 0.8920\n",
            "Epoch 6/20\n",
            "334/334 [==============================] - 36s 109ms/step - loss: 0.0132 - accuracy: 0.9961 - val_loss: 0.5067 - val_accuracy: 0.8867\n",
            "Epoch 7/20\n",
            "334/334 [==============================] - 36s 109ms/step - loss: 0.0123 - accuracy: 0.9962 - val_loss: 0.5690 - val_accuracy: 0.8762\n",
            "Epoch 8/20\n",
            "334/334 [==============================] - 36s 109ms/step - loss: 0.0120 - accuracy: 0.9965 - val_loss: 0.3904 - val_accuracy: 0.8732\n",
            "Epoch 9/20\n",
            "334/334 [==============================] - 36s 109ms/step - loss: 0.0098 - accuracy: 0.9976 - val_loss: 0.5952 - val_accuracy: 0.8882\n",
            "Epoch 10/20\n",
            "334/334 [==============================] - 36s 109ms/step - loss: 0.0061 - accuracy: 0.9981 - val_loss: 0.6494 - val_accuracy: 0.8822\n",
            "Epoch 11/20\n",
            "334/334 [==============================] - 36s 109ms/step - loss: 0.0080 - accuracy: 0.9977 - val_loss: 0.5625 - val_accuracy: 0.8920\n",
            "Epoch 12/20\n",
            "334/334 [==============================] - 37s 109ms/step - loss: 0.0112 - accuracy: 0.9969 - val_loss: 0.7251 - val_accuracy: 0.8867\n",
            "Epoch 13/20\n",
            "334/334 [==============================] - 36s 109ms/step - loss: 0.0076 - accuracy: 0.9977 - val_loss: 0.5740 - val_accuracy: 0.8882\n",
            "Epoch 14/20\n",
            "334/334 [==============================] - 36s 109ms/step - loss: 0.0124 - accuracy: 0.9962 - val_loss: 0.6103 - val_accuracy: 0.8725\n",
            "Epoch 15/20\n",
            "334/334 [==============================] - 36s 109ms/step - loss: 0.0120 - accuracy: 0.9955 - val_loss: 0.6171 - val_accuracy: 0.8710\n",
            "Epoch 16/20\n",
            "334/334 [==============================] - 37s 109ms/step - loss: 0.0076 - accuracy: 0.9976 - val_loss: 0.7546 - val_accuracy: 0.8777\n",
            "Epoch 17/20\n",
            "334/334 [==============================] - 36s 109ms/step - loss: 0.0038 - accuracy: 0.9987 - val_loss: 0.8633 - val_accuracy: 0.8807\n",
            "Epoch 18/20\n",
            "334/334 [==============================] - 36s 109ms/step - loss: 0.0030 - accuracy: 0.9992 - val_loss: 0.8509 - val_accuracy: 0.8777\n",
            "Epoch 19/20\n",
            "334/334 [==============================] - 36s 109ms/step - loss: 0.0032 - accuracy: 0.9990 - val_loss: 0.7635 - val_accuracy: 0.8830\n",
            "Epoch 20/20\n",
            "334/334 [==============================] - 36s 109ms/step - loss: 0.0021 - accuracy: 0.9992 - val_loss: 0.7685 - val_accuracy: 0.8815\n"
          ],
          "name": "stdout"
        }
      ]
    },
    {
      "cell_type": "markdown",
      "metadata": {
        "id": "oK2MAXOjkndL"
      },
      "source": [
        "## Evaluation"
      ]
    },
    {
      "cell_type": "code",
      "metadata": {
        "colab": {
          "base_uri": "https://localhost:8080/"
        },
        "id": "xMQVsm5uP2NH",
        "outputId": "52289b27-37fc-4094-daa3-7f1b5a188659"
      },
      "source": [
        "eval_results_lstm = model_lstm.evaluate(x_test, y_test)\n",
        "\n",
        "for metric, value in zip(model_lstm.metrics_names, eval_results_lstm):\n",
        "    print(metric + ': {:.3}'.format(value))"
      ],
      "execution_count": null,
      "outputs": [
        {
          "output_type": "stream",
          "text": [
            "42/42 [==============================] - 1s 23ms/step - loss: 0.7590 - accuracy: 0.8912\n",
            "loss: 0.759\n",
            "accuracy: 0.891\n"
          ],
          "name": "stdout"
        }
      ]
    },
    {
      "cell_type": "code",
      "metadata": {
        "id": "PfgtDEYYfiIl"
      },
      "source": [
        "from sklearn.metrics import confusion_matrix\n",
        "import seaborn as sns\n",
        "\n",
        "def plot_confusion_matrix(y_true, y_prediction):\n",
        "    cm = confusion_matrix(y_true, y_prediction)\n",
        "    sns.heatmap(cm, annot = True, fmt = 'g', cmap = 'Greens')"
      ],
      "execution_count": null,
      "outputs": []
    },
    {
      "cell_type": "code",
      "metadata": {
        "colab": {
          "base_uri": "https://localhost:8080/",
          "height": 265
        },
        "id": "2UNImtmyjpyU",
        "outputId": "86f32c3e-9b63-4f01-d313-2983fbadac63"
      },
      "source": [
        "THRESHOLD = 0.5\n",
        "\n",
        "y_prediction = model_lstm.predict(x_test) > THRESHOLD\n",
        "plot_confusion_matrix(y_test, y_prediction)"
      ],
      "execution_count": null,
      "outputs": [
        {
          "output_type": "display_data",
          "data": {
            "image/png": "[encoded data removed]",
            "text/plain": [
              "<Figure size 432x288 with 2 Axes>"
            ]
          },
          "metadata": {
            "tags": [],
            "needs_background": "light"
          }
        }
      ]
    },
    {
      "cell_type": "markdown",
      "metadata": {
        "id": "b45_rVWvThM7"
      },
      "source": [
        "# Deployment"
      ]
    },
    {
      "cell_type": "code",
      "metadata": {
        "colab": {
          "base_uri": "https://localhost:8080/"
        },
        "id": "g5637wBRXEVO",
        "outputId": "a814a3ed-e36f-4ca2-8b13-c984c2c965d1"
      },
      "source": [
        "model_lstm.save('lstm-128')"
      ],
      "execution_count": null,
      "outputs": [
        {
          "output_type": "stream",
          "text": [
            "WARNING:absl:Found untraced functions such as lstm_cell_1_layer_call_fn, lstm_cell_1_layer_call_and_return_conditional_losses, lstm_cell_2_layer_call_fn, lstm_cell_2_layer_call_and_return_conditional_losses, lstm_cell_4_layer_call_fn while saving (showing 5 of 50). These functions will not be directly callable after loading.\n"
          ],
          "name": "stderr"
        },
        {
          "output_type": "stream",
          "text": [
            "INFO:tensorflow:Assets written to: lstm-128/assets\n"
          ],
          "name": "stdout"
        },
        {
          "output_type": "stream",
          "text": [
            "INFO:tensorflow:Assets written to: lstm-128/assets\n"
          ],
          "name": "stderr"
        }
      ]
    },
    {
      "cell_type": "code",
      "metadata": {
        "id": "29T1WswRTa4m"
      },
      "source": [
        "import sys\n",
        "\n",
        "if 'google.colab' in sys.modules:\n",
        "    from google.colab import auth as google_auth\n",
        "    google_auth.authenticate_user()"
      ],
      "execution_count": null,
      "outputs": []
    },
    {
      "cell_type": "markdown",
      "metadata": {
        "id": "rLCC9Txq3GN_"
      },
      "source": [
        "## Create Cloud Storage Bucket"
      ]
    },
    {
      "cell_type": "code",
      "metadata": {
        "id": "WFJ_akV9z76O"
      },
      "source": [
        "REGION = \"\"\n",
        "PROJECT_ID = \"\"\n",
        "BUCKET_NAME = \"\""
      ],
      "execution_count": null,
      "outputs": []
    },
    {
      "cell_type": "code",
      "metadata": {
        "id": "rgmraUSyy26R"
      },
      "source": [
        "! gsutil mb -l $REGION -p $PROJECT_ID gs://$BUCKET_NAME"
      ],
      "execution_count": null,
      "outputs": []
    },
    {
      "cell_type": "markdown",
      "metadata": {
        "id": "XGouqD1u3Uzz"
      },
      "source": [
        "## Upload Model to Cloud Storage"
      ]
    },
    {
      "cell_type": "code",
      "metadata": {
        "colab": {
          "base_uri": "https://localhost:8080/"
        },
        "id": "mjtQTAvLTtoy",
        "outputId": "f61060b5-2a5e-466e-91dd-d8648840cb58"
      },
      "source": [
        "! gsutil -m cp -r ./lstm-128 gs://$BUCKET_NAME"
      ],
      "execution_count": null,
      "outputs": [
        {
          "output_type": "stream",
          "text": [
            "Copying file:///content/lstm-128/saved_model.pb [Content-Type=application/octet-stream]...\n",
            "Copying file:///content/lstm-128/keras_metadata.pb [Content-Type=application/octet-stream]...\n",
            "/ [0/5 files][    0.0 B/  1.3 GiB]   0% Done                                    \r/ [0/5 files][    0.0 B/  1.3 GiB]   0% Done                                    \rCopying file:///content/lstm-128/variables/variables.index [Content-Type=application/octet-stream]...\n",
            "/ [0/5 files][    0.0 B/  1.3 GiB]   0% Done                                    \rCopying file:///content/lstm-128/assets/tokens.txt [Content-Type=text/plain]...\n",
            "/ [0/5 files][    0.0 B/  1.3 GiB]   0% Done                                    \rCopying file:///content/lstm-128/variables/variables.data-00000-of-00001 [Content-Type=application/octet-stream]...\n",
            "/ [0/5 files][    0.0 B/  1.3 GiB]   0% Done                                    \r==> NOTE: You are uploading one or more large file(s), which would run\n",
            "significantly faster if you enable parallel composite uploads. This\n",
            "feature can be enabled by editing the\n",
            "\"parallel_composite_upload_threshold\" value in your .boto\n",
            "configuration file. However, note that if you do this large files will\n",
            "be uploaded as `composite objects\n",
            "<https://cloud.google.com/storage/docs/composite-objects>`_,which\n",
            "means that any user who downloads such objects will need to have a\n",
            "compiled crcmod installed (see \"gsutil help crcmod\"). This is because\n",
            "without a compiled crcmod, computing checksums on composite objects is\n",
            "so slow that gsutil disables downloads of composite objects.\n",
            "\n",
            "-\n",
            "Operation completed over 5 objects/1.3 GiB.                                      \n"
          ],
          "name": "stdout"
        }
      ]
    },
    {
      "cell_type": "markdown",
      "metadata": {
        "id": "wGOR3Dds3dgQ"
      },
      "source": [
        "## Create AI Platform Model "
      ]
    },
    {
      "cell_type": "code",
      "metadata": {
        "id": "jWXkG3jj0sHi"
      },
      "source": [
        "MODEL_NAME = \"\""
      ],
      "execution_count": null,
      "outputs": []
    },
    {
      "cell_type": "code",
      "metadata": {
        "id": "F6OeURsK0ivt"
      },
      "source": [
        "! gcloud ai-platform models create $MODEL_NAME \\\n",
        "    --region=$REGION \\\n",
        "    --project=$PROJECT_ID"
      ],
      "execution_count": null,
      "outputs": []
    },
    {
      "cell_type": "markdown",
      "metadata": {
        "id": "F9K1_hor3xnO"
      },
      "source": [
        "## Create Model Version"
      ]
    },
    {
      "cell_type": "code",
      "metadata": {
        "id": "Stlqx09P1JXy"
      },
      "source": [
        "MODEL_DIR = \"gs://{}/lstm-128/\".format(BUCKET_NAME)\n",
        "VERSION_NAME = \"\"\n",
        "MACHINE_TYPE = \"\""
      ],
      "execution_count": null,
      "outputs": []
    },
    {
      "cell_type": "code",
      "metadata": {
        "id": "vWjBTw3D07Bg"
      },
      "source": [
        "! gcloud ai-platform versions create $VERSION_NAME \\\n",
        "  --model=$MODEL_NAME \\\n",
        "  --origin=$MODEL_DIR \\\n",
        "  --runtime-version=2.4 \\\n",
        "  --framework=tensorflow \\\n",
        "  --python-version=3.7 \\\n",
        "  --region=$REGION \\\n",
        "  --machine-type=$MACHINE_TYPE \\\n",
        "  --project=$PROJECT_ID"
      ],
      "execution_count": null,
      "outputs": []
    },
    {
      "cell_type": "markdown",
      "metadata": {
        "id": "ZCIqcl8136VG"
      },
      "source": [
        "## Send Prediction Request"
      ]
    },
    {
      "cell_type": "code",
      "metadata": {
        "id": "MQXVhEEwdRsd"
      },
      "source": [
        "import json\n",
        "\n",
        "input = {\"instances\": \n",
        "         [\n",
        "          \"tanggal 1 juni diperingati sebagai hari pancasila.\",\n",
        "          \"lama kali kau datang anjeng, dari mana aja kau?\"\n",
        "        ]}\n",
        "\n",
        "with open('data.json', 'w') as outfile:\n",
        "    json.dump(input, outfile)"
      ],
      "execution_count": null,
      "outputs": []
    },
    {
      "cell_type": "code",
      "metadata": {
        "id": "JoCyMJlBXwq2"
      },
      "source": [
        "! gcloud ai-platform predict \\\n",
        "    --project=$PROJECT_ID \\\n",
        "    --model=$MODEL_NAME \\\n",
        "    --version=$VERSION_NAME \\\n",
        "    --json-request=data.json \\\n",
        "    --region=$REGION"
      ],
      "execution_count": null,
      "outputs": []
    },
    {
      "cell_type": "markdown",
      "metadata": {
        "id": "UxxhDl0VGz7l"
      },
      "source": [
        "Contoh Output:\n",
        "\n",
        "```\n",
        "Using endpoint [https://asia-southeast1-ml.googleapis.com/]\n",
        "[[8.1779981e-05], [0.810448825]]\n",
        "```"
      ]
    }
  ]
}